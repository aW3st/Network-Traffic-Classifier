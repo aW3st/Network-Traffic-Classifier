{
 "cells": [
  {
   "cell_type": "markdown",
   "metadata": {},
   "source": [
    "# Exploratory Data Analysis\n",
    "\n",
    "First please make sure to run init.sh--this sets up the docker container with the database we'll be querying in this notebook.\n",
    "\n",
    "In this notebook we'll be taking a look at the overall structure of the data and checking for any obvious patterns or problems present.\n",
    "\n",
    "We'll use psycopg2 to connect to our database, pandas' sql module to query the data into dataframes, and matplotlib/seaborn to visualize the results. "
   ]
  },
  {
   "cell_type": "code",
   "execution_count": 3,
   "metadata": {
    "ExecuteTime": {
     "end_time": "2020-05-30T20:18:05.397417Z",
     "start_time": "2020-05-30T20:18:04.403013Z"
    }
   },
   "outputs": [],
   "source": [
    "import numpy as np\n",
    "import pandas as pd\n",
    "import matplotlib.pyplot as plt\n",
    "import seaborn as sns\n",
    "import pandas.io.sql as pd_sql\n",
    "import psycopg2 as pg\n",
    "from psycopg2 import sql, extras\n",
    "import warnings\n",
    "from sklearn.tree import DecisionTreeClassifier\n",
    "from sklearn.ensemble import RandomForestClassifier\n",
    "from sklearn.metrics import plot_confusion_matrix, classification_report\n",
    "with warnings.catch_warnings():\n",
    "    warnings.filterwarnings(\"ignore\",category=FutureWarning)\n",
    "    from sklearn.model_selection import train_test_split\n",
    "import pdb"
   ]
  },
  {
   "cell_type": "code",
   "execution_count": 4,
   "metadata": {
    "ExecuteTime": {
     "end_time": "2020-05-30T20:18:05.446945Z",
     "start_time": "2020-05-30T20:18:05.430876Z"
    }
   },
   "outputs": [],
   "source": [
    "connection_args = {\n",
    "    'host': \"localhost\",\n",
    "    'user': \"docker\",\n",
    "    'dbname': 'trafficflow', # Database we are connecting to\n",
    "    'port': 9999,\n",
    "    'connect_timeout': 0\n",
    "}\n",
    "\n",
    "index=[\"timestamp\",\"tablename\",\"dst_port\"]\n",
    "conn = pg.connect(**connection_args)\n",
    "cursor = conn.cursor()"
   ]
  },
  {
   "cell_type": "markdown",
   "metadata": {},
   "source": [
    "Each row in our dataset is a summary of a bi-directional flow of packets between two endpoints (IP/port pairs) in a computer network. Our goal is to classify those flows as one of 9 different attacks. Our dataset is too large to fit into RAM, so, outside of a distributed ML model, we have two options: 1) discard enough features to fit all the observations in RAM, or 2) stream data in batches to a classifier capable of online learning,\n",
    "\n",
    "Let's start with the first approach. Let's make our target dataframe size 2 gigabytes. We have roughly 16 million rows. Assuming each feature is 8 bytes, we can fit about 14 features in RAM. As a first step, let's remove features with low variance."
   ]
  },
  {
   "cell_type": "code",
   "execution_count": 23,
   "metadata": {
    "ExecuteTime": {
     "end_time": "2020-05-27T03:23:38.805997Z",
     "start_time": "2020-05-27T03:23:26.980660Z"
    }
   },
   "outputs": [
    {
     "data": {
      "text/plain": [
       "fwd_urg_flags     0.000164\n",
       "cwe_flag_count    0.000164\n",
       "fin_flag_cnt      0.004772\n",
       "urg_flag_cnt      0.039973\n",
       "syn_flag_cnt      0.041969\n",
       "fwd_psh_flags     0.041969\n",
       "rst_flag_cnt      0.152280\n",
       "ece_flag_cnt      0.152280\n",
       "ack_flag_cnt      0.221642\n",
       "psh_flag_cnt      0.238354\n",
       "Name: 0, dtype: float64"
      ]
     },
     "execution_count": 23,
     "metadata": {},
     "output_type": "execute_result"
    }
   ],
   "source": [
    "#get column names and data types for use in our query\n",
    "cursor.execute(\"\"\"\n",
    "SELECT column_name, data_type \n",
    "FROM information_schema.columns \n",
    "WHERE table_name = 'trafficdata';\"\"\")\n",
    "\n",
    "col_names = cursor.fetchall()\n",
    "\n",
    "query = \"SELECT {} FROM trafficdata\".format(\n",
    "    ', '.join(\n",
    "        [f\"VAR_SAMP({col[0]}) AS {col[0]}\" for col in col_names if col[1] not in ['text', 'timestamp without time zone']])\n",
    "                    )\n",
    "variances = pd.read_sql_query(query, conn).transpose()[0]\n",
    "variances.sort_values().head(10)"
   ]
  },
  {
   "cell_type": "markdown",
   "metadata": {
    "ExecuteTime": {
     "end_time": "2020-05-21T15:54:20.514474Z",
     "start_time": "2020-05-21T15:54:20.447032Z"
    }
   },
   "source": [
    "It looks like some of these features are constant! Obviously these won't be good features when building our model, so we might as well throw them out. "
   ]
  },
  {
   "cell_type": "code",
   "execution_count": 4,
   "metadata": {
    "ExecuteTime": {
     "end_time": "2020-05-26T16:13:14.073192Z",
     "start_time": "2020-05-26T16:13:14.068484Z"
    }
   },
   "outputs": [],
   "source": [
    "for col in variances[variances==0].index:\n",
    "    cursor.execute(f\"\"\"SELECT COUNT(DISTINCT({col})) FROM trafficdata\"\"\")\n",
    "    if cursor.fetchall()[0][0]==1:\n",
    "        cursor.execute(f\"ALTER TABLE trafficdata DROP COLUMN {col}\")\n",
    "        conn.commit()    "
   ]
  },
  {
   "cell_type": "markdown",
   "metadata": {},
   "source": [
    "Let's wait before discarding any features with non-zero variance. Another way to gauge whether a feature is useful is to leverage a model. We'll build a RandomForestClassifier and then use the 15 best features as defined by the model's feature importances.\n",
    "\n",
    "First let's pull a random sample from our database."
   ]
  },
  {
   "cell_type": "code",
   "execution_count": 19,
   "metadata": {
    "ExecuteTime": {
     "end_time": "2020-05-27T17:00:16.952120Z",
     "start_time": "2020-05-27T16:59:25.316266Z"
    }
   },
   "outputs": [],
   "source": [
    "sample = pd_sql.read_sql_query(\n",
    "    \"\"\"SELECT * FROM trafficdata TABLESAMPLE BERNOULLI(4)\n",
    "    UNION (SELECT * FROM trafficdata WHERE label = 'SQL Injection' LIMIT 10)\n",
    "    UNION (SELECT * FROM trafficdata WHERE label = 'Brute Force -XSS')\n",
    "    \"\"\", conn, index_col=index)\n",
    "# flow_byts_s has some np.inf values, so we replace those with NaNs and then impute \n",
    "# with the max column value.\n",
    "sample = sample.replace(np.inf, pd.NA)\n",
    "sample = sample.fillna(sample.max())"
   ]
  },
  {
   "cell_type": "markdown",
   "metadata": {},
   "source": [
    "The next move is to assess the distribution of classes in our dataset. Class imbalance will require further transformations. "
   ]
  },
  {
   "cell_type": "code",
   "execution_count": 6,
   "metadata": {
    "ExecuteTime": {
     "end_time": "2020-05-26T16:13:53.585499Z",
     "start_time": "2020-05-26T16:13:53.080384Z"
    }
   },
   "outputs": [
    {
     "data": {
      "text/plain": [
       "<matplotlib.axes._subplots.AxesSubplot at 0x7fea53dc0650>"
      ]
     },
     "execution_count": 6,
     "metadata": {},
     "output_type": "execute_result"
    },
    {
     "data": {
      "image/png": "[encoded data removed]",
      "text/plain": [
       "<Figure size 720x720 with 1 Axes>"
      ]
     },
     "metadata": {
      "needs_background": "light"
     },
     "output_type": "display_data"
    }
   ],
   "source": [
    "fig, ax = plt.subplots(figsize=(10,10))\n",
    "sample['label'].value_counts().plot(kind='barh',logx=True, ax=ax, title='Class Distribution (Log Scale)')"
   ]
  },
  {
   "cell_type": "markdown",
   "metadata": {
    "ExecuteTime": {
     "end_time": "2020-05-10T02:22:06.536524Z",
     "start_time": "2020-05-10T02:22:06.531249Z"
    }
   },
   "source": [
    "As we can see, there is a pretty staggering class imbalance--the number of benign observations is almost two orders of magnitude greater than next most numerous class. Meanwhile, the least-represented class has less than 50 observations.\n",
    "\n",
    "We have plenty of observations, so the most obvious step is undersampling the majority class. In order to further balance the classes, we'll also oversample some of the less frequent classes by creating synthetic samples. Let's aim to bring all our observations in line with the median class. For the classes with very few observations, we'll only oversample by a factor of 3 to prevent overfitting. "
   ]
  },
  {
   "cell_type": "code",
   "execution_count": 13,
   "metadata": {
    "ExecuteTime": {
     "end_time": "2020-05-29T06:33:41.838498Z",
     "start_time": "2020-05-29T06:33:40.617414Z"
    }
   },
   "outputs": [
    {
     "name": "stderr",
     "output_type": "stream",
     "text": [
      "/home/alex/anaconda3/lib/python3.7/site-packages/tensorflow/python/framework/dtypes.py:526: FutureWarning: Passing (type, 1) or '1type' as a synonym of type is deprecated; in a future version of numpy, it will be understood as (type, (1,)) / '(1,)type'.\n",
      "  _np_qint8 = np.dtype([(\"qint8\", np.int8, 1)])\n",
      "/home/alex/anaconda3/lib/python3.7/site-packages/tensorflow/python/framework/dtypes.py:527: FutureWarning: Passing (type, 1) or '1type' as a synonym of type is deprecated; in a future version of numpy, it will be understood as (type, (1,)) / '(1,)type'.\n",
      "  _np_quint8 = np.dtype([(\"quint8\", np.uint8, 1)])\n",
      "/home/alex/anaconda3/lib/python3.7/site-packages/tensorflow/python/framework/dtypes.py:528: FutureWarning: Passing (type, 1) or '1type' as a synonym of type is deprecated; in a future version of numpy, it will be understood as (type, (1,)) / '(1,)type'.\n",
      "  _np_qint16 = np.dtype([(\"qint16\", np.int16, 1)])\n",
      "/home/alex/anaconda3/lib/python3.7/site-packages/tensorflow/python/framework/dtypes.py:529: FutureWarning: Passing (type, 1) or '1type' as a synonym of type is deprecated; in a future version of numpy, it will be understood as (type, (1,)) / '(1,)type'.\n",
      "  _np_quint16 = np.dtype([(\"quint16\", np.uint16, 1)])\n",
      "/home/alex/anaconda3/lib/python3.7/site-packages/tensorflow/python/framework/dtypes.py:530: FutureWarning: Passing (type, 1) or '1type' as a synonym of type is deprecated; in a future version of numpy, it will be understood as (type, (1,)) / '(1,)type'.\n",
      "  _np_qint32 = np.dtype([(\"qint32\", np.int32, 1)])\n",
      "/home/alex/anaconda3/lib/python3.7/site-packages/tensorflow/python/framework/dtypes.py:535: FutureWarning: Passing (type, 1) or '1type' as a synonym of type is deprecated; in a future version of numpy, it will be understood as (type, (1,)) / '(1,)type'.\n",
      "  np_resource = np.dtype([(\"resource\", np.ubyte, 1)])\n"
     ]
    }
   ],
   "source": [
    "from imblearn.under_sampling import RandomUnderSampler\n",
    "from imblearn.over_sampling import SMOTE\n",
    "from imblearn.pipeline import make_pipeline\n",
    "\n",
    "def oversampling_strat(y: 'numpy array of labels', max_multiple=3)-> dict:\n",
    "    \"\"\"\n",
    "    Specifies target number of samples for resampled classes. If a class has fewer observations than\n",
    "    target_num/max_multiple, returns the number of that class's observations times max_multiple.\n",
    "    \"\"\"\n",
    "    target_nums = {}\n",
    "    class_nums = np.unique(y, return_counts=True)\n",
    "    target_num = int(class_nums[1].mean())\n",
    "    for idx, label in enumerate(class_nums[0]):\n",
    "        count = class_nums[1][idx]\n",
    "        if count>=target_num:\n",
    "            target_nums[label]=count\n",
    "        elif count*max_multiple < target_num:\n",
    "            target_nums[label]=count*max_multiple\n",
    "        else:\n",
    "            target_nums[label]=target_num\n",
    "    return target_nums\n",
    "\n",
    "def undersampling_strat(y: 'numpy array of labels')-> dict:\n",
    "    \"\"\"\n",
    "    Matches majority class to second-most-frequent class.\n",
    "    \"\"\"\n",
    "    class_nums = np.unique(y, return_counts=True)\n",
    "    sorted_indices = class_nums[1].argsort()\n",
    "    majority_class = class_nums[0][sorted_indices[-1]]\n",
    "    target_nums = dict(zip(*class_nums))\n",
    "    target_nums[majority_class]=class_nums[1][sorted_indices[-2]]\n",
    "    return target_nums"
   ]
  },
  {
   "cell_type": "code",
   "execution_count": 8,
   "metadata": {
    "ExecuteTime": {
     "end_time": "2020-05-29T06:21:10.778866Z",
     "start_time": "2020-05-29T06:21:09.382082Z"
    }
   },
   "outputs": [
    {
     "name": "stderr",
     "output_type": "stream",
     "text": [
      "/home/alex/anaconda3/lib/python3.7/site-packages/tensorflow/python/framework/dtypes.py:526: FutureWarning: Passing (type, 1) or '1type' as a synonym of type is deprecated; in a future version of numpy, it will be understood as (type, (1,)) / '(1,)type'.\n",
      "  _np_qint8 = np.dtype([(\"qint8\", np.int8, 1)])\n",
      "/home/alex/anaconda3/lib/python3.7/site-packages/tensorflow/python/framework/dtypes.py:527: FutureWarning: Passing (type, 1) or '1type' as a synonym of type is deprecated; in a future version of numpy, it will be understood as (type, (1,)) / '(1,)type'.\n",
      "  _np_quint8 = np.dtype([(\"quint8\", np.uint8, 1)])\n",
      "/home/alex/anaconda3/lib/python3.7/site-packages/tensorflow/python/framework/dtypes.py:528: FutureWarning: Passing (type, 1) or '1type' as a synonym of type is deprecated; in a future version of numpy, it will be understood as (type, (1,)) / '(1,)type'.\n",
      "  _np_qint16 = np.dtype([(\"qint16\", np.int16, 1)])\n",
      "/home/alex/anaconda3/lib/python3.7/site-packages/tensorflow/python/framework/dtypes.py:529: FutureWarning: Passing (type, 1) or '1type' as a synonym of type is deprecated; in a future version of numpy, it will be understood as (type, (1,)) / '(1,)type'.\n",
      "  _np_quint16 = np.dtype([(\"quint16\", np.uint16, 1)])\n",
      "/home/alex/anaconda3/lib/python3.7/site-packages/tensorflow/python/framework/dtypes.py:530: FutureWarning: Passing (type, 1) or '1type' as a synonym of type is deprecated; in a future version of numpy, it will be understood as (type, (1,)) / '(1,)type'.\n",
      "  _np_qint32 = np.dtype([(\"qint32\", np.int32, 1)])\n",
      "/home/alex/anaconda3/lib/python3.7/site-packages/tensorflow/python/framework/dtypes.py:535: FutureWarning: Passing (type, 1) or '1type' as a synonym of type is deprecated; in a future version of numpy, it will be understood as (type, (1,)) / '(1,)type'.\n",
      "  np_resource = np.dtype([(\"resource\", np.ubyte, 1)])\n"
     ]
    }
   ],
   "source": [
    "oversampler = SMOTE(sampling_strategy=oversampling_strat, n_jobs=-1)\n",
    "undersampler = RandomUnderSampler(sampling_strategy=undersampling_strat)\n",
    "estimator = RandomForestClassifier(n_jobs=-1, verbose=2)\n",
    "pipe = make_pipeline(undersampler, oversampler, estimator)"
   ]
  },
  {
   "cell_type": "markdown",
   "metadata": {},
   "source": [
    "Now that we've established our strategy for balancing our data's class distribution, it's time to fit our model. We'll use a random search to optimize our hyperparameters and then use the best estimator to calculate feature importances. Since we don't plan on using this as our final model, we won't bother with splitting into test and train subsets, and will rely on cross-validation to assess how well our model generalizes."
   ]
  },
  {
   "cell_type": "code",
   "execution_count": 27,
   "metadata": {
    "ExecuteTime": {
     "end_time": "2020-05-28T05:04:54.372800Z",
     "start_time": "2020-05-28T05:04:54.359878Z"
    }
   },
   "outputs": [
    {
     "ename": "NameError",
     "evalue": "name 'sample' is not defined",
     "output_type": "error",
     "traceback": [
      "\u001b[0;31m---------------------------------------------------------------------------\u001b[0m",
      "\u001b[0;31mNameError\u001b[0m                                 Traceback (most recent call last)",
      "\u001b[0;32m<ipython-input-27-b81837efd218>\u001b[0m in \u001b[0;36m<module>\u001b[0;34m\u001b[0m\n\u001b[1;32m     11\u001b[0m                         \u001b[0mn_iter\u001b[0m\u001b[0;34m=\u001b[0m\u001b[0;36m15\u001b[0m\u001b[0;34m,\u001b[0m \u001b[0mcv\u001b[0m\u001b[0;34m=\u001b[0m\u001b[0mcv\u001b[0m\u001b[0;34m,\u001b[0m \u001b[0mscoring\u001b[0m\u001b[0;34m=\u001b[0m\u001b[0;34m'f1_macro'\u001b[0m\u001b[0;34m,\u001b[0m \u001b[0mrandom_state\u001b[0m\u001b[0;34m=\u001b[0m\u001b[0;36m42\u001b[0m\u001b[0;34m,\u001b[0m\u001b[0;34m\u001b[0m\u001b[0;34m\u001b[0m\u001b[0m\n\u001b[1;32m     12\u001b[0m                         n_jobs=3, pre_dispatch=5)\n\u001b[0;32m---> 13\u001b[0;31m \u001b[0mRS\u001b[0m\u001b[0;34m.\u001b[0m\u001b[0mfit\u001b[0m\u001b[0;34m(\u001b[0m\u001b[0msample\u001b[0m\u001b[0;34m.\u001b[0m\u001b[0mdrop\u001b[0m\u001b[0;34m(\u001b[0m\u001b[0;34m'label'\u001b[0m\u001b[0;34m,\u001b[0m \u001b[0maxis\u001b[0m\u001b[0;34m=\u001b[0m\u001b[0;36m1\u001b[0m\u001b[0;34m)\u001b[0m\u001b[0;34m,\u001b[0m \u001b[0msample\u001b[0m\u001b[0;34m[\u001b[0m\u001b[0;34m'label'\u001b[0m\u001b[0;34m]\u001b[0m\u001b[0;34m)\u001b[0m\u001b[0;34m\u001b[0m\u001b[0;34m\u001b[0m\u001b[0m\n\u001b[0m\u001b[1;32m     14\u001b[0m \u001b[0mfeature_selector\u001b[0m \u001b[0;34m=\u001b[0m \u001b[0mRS\u001b[0m\u001b[0;34m.\u001b[0m\u001b[0mbest_estimator_\u001b[0m\u001b[0;34m\u001b[0m\u001b[0;34m\u001b[0m\u001b[0m\n",
      "\u001b[0;31mNameError\u001b[0m: name 'sample' is not defined"
     ]
    }
   ],
   "source": [
    "\n",
    "And separately but on a related note, doesn't the US military sell plenty ofrom sklearn.model_selection import RandomizedSearchCV, StratifiedKFold\n",
    "\n",
    "cv = StratifiedKFold(3)\n",
    "params = {'randomforestclassifier__max_features': range(2, 10),\n",
    "          'randomforestclassifier__min_impurity_decrease': np.linspace(0, 1e-6, 50),\n",
    "          'randomforestclassifier__class_weight': [None, 'balanced', 'balanced_subsample'],\n",
    "          'randomforestclassifier__min_samples_split': range(2, 10)\n",
    "          }\n",
    "\n",
    "RS = RandomizedSearchCV(pipe, param_distributions=params,\n",
    "                        n_iter=15, cv=cv, scoring='f1_macro', random_state=42)\n",
    "RS.fit(sample.drop('label', axis=1), sample['label'])\n",
    "feature_selector = RS.best_estimator_"
   ]
  },
  {
   "cell_type": "code",
   "execution_count": 22,
   "metadata": {
    "ExecuteTime": {
     "end_time": "2020-05-27T17:19:17.104331Z",
     "start_time": "2020-05-27T17:19:16.939809Z"
    }
   },
   "outputs": [
    {
     "name": "stdout",
     "output_type": "stream",
     "text": [
      "Stored 'best_features' (Series)\n"
     ]
    },
    {
     "data": {
      "image/png": "[encoded data removed]",
      "text/plain": [
       "<Figure size 360x576 with 1 Axes>"
      ]
     },
     "metadata": {
      "needs_background": "light"
     },
     "output_type": "display_data"
    }
   ],
   "source": [
    "feature_importances = pd.Series(dict(zip(sample.columns, RS.best_estimator_['randomforestclassifier'].feature_importances_)))\n",
    "best_features = feature_importances.sort_values().tail(14)\n",
    "# store in case notebook crashes\n",
    "%store best_features\n",
    "best_features.plot(kind='barh', figsize=(5,8), xticks=[], title = \"Best Features Selected by Model\");"
   ]
  },
  {
   "cell_type": "markdown",
   "metadata": {},
   "source": [
    "Now that we have our candidates for best features, it's time to train our final model. We'll delete all global variables first to make sure we have enough memory available, then pull from our database in chunks. Then "
   ]
  },
  {
   "cell_type": "code",
   "execution_count": 33,
   "metadata": {
    "ExecuteTime": {
     "end_time": "2020-05-30T20:36:15.702276Z",
     "start_time": "2020-05-30T20:36:15.689657Z"
    }
   },
   "outputs": [],
   "source": [
    "def querydb(query, connection):\n",
    "    cursor = connection.cursor(name=\"my_cursor\")\n",
    "    cursor.execute(query)\n",
    "    first = True\n",
    "    while True:\n",
    "        rows = cursor.fetchmany(size=500_000)\n",
    "        if len(rows)==0:\n",
    "            break\n",
    "        if first:\n",
    "            data = np.array(rows)\n",
    "            first=False\n",
    "        else:\n",
    "            data = np.concatenate([data, np.array(rows)])\n",
    "            \n",
    "        print(data.shape, data.nbytes/1e9) #number of observations, size of sample in gigabytes\n",
    "    cursor.close()\n",
    "    return data"
   ]
  },
  {
   "cell_type": "code",
   "execution_count": 5,
   "metadata": {
    "ExecuteTime": {
     "end_time": "2020-05-29T06:49:28.066543Z",
     "start_time": "2020-05-29T06:47:58.014281Z"
    }
   },
   "outputs": [
    {
     "name": "stdout",
     "output_type": "stream",
     "text": [
      "(500000, 15) 0.06\n",
      "(1000000, 15) 0.12\n",
      "(1500000, 15) 0.18\n",
      "(2000000, 15) 0.24\n",
      "(2500000, 15) 0.3\n",
      "(3000000, 15) 0.36\n",
      "(3500000, 15) 0.42\n",
      "(4000000, 15) 0.48\n",
      "(4500000, 15) 0.54\n",
      "(5000000, 15) 0.6\n",
      "(5500000, 15) 0.66\n",
      "(6000000, 15) 0.72\n",
      "(6500000, 15) 0.78\n",
      "(7000000, 15) 0.84\n",
      "(7500000, 15) 0.9\n",
      "(8000000, 15) 0.96\n",
      "(8500000, 15) 1.02\n",
      "(9000000, 15) 1.08\n",
      "(9500000, 15) 1.14\n",
      "(10000000, 15) 1.2\n",
      "(10500000, 15) 1.26\n",
      "(11000000, 15) 1.32\n",
      "(11500000, 15) 1.38\n",
      "(12000000, 15) 1.44\n",
      "(12500000, 15) 1.5\n",
      "(13000000, 15) 1.56\n",
      "(13500000, 15) 1.62\n",
      "(14000000, 15) 1.68\n",
      "(14500000, 15) 1.74\n",
      "(15000000, 15) 1.8\n",
      "(15500000, 15) 1.86\n",
      "(16000000, 15) 1.92\n",
      "(16232929, 15) 1.94795148\n"
     ]
    }
   ],
   "source": [
    "%reset\n",
    "%store -r best_features\n",
    "#convert string labels to integers for memory efficiency\n",
    "query = \"\"\"SELECT {}, CASE\n",
    "        WHEN label='Benign' THEN 0\n",
    "        WHEN label='SQL Injection' THEN 1\n",
    "        WHEN label='Brute Force -Web' THEN 2\n",
    "        WHEN label='DoS attacks-Slowloris' THEN 3\n",
    "        WHEN label='DoS attacks-GoldenEye' THEN 4\n",
    "        WHEN label='DoS attacks-SlowHTTPTest' THEN 5\n",
    "        WHEN label='DDOS attack-LOIC-UDP' THEN 6\n",
    "        WHEN label='Brute Force -XSS' THEN 7\n",
    "        WHEN label='FTP-BruteForce' THEN 8\n",
    "        WHEN label='Infilteration' THEN 9\n",
    "        WHEN label='SSH-Bruteforce' THEN 10\n",
    "        WHEN label='Bot' THEN 11\n",
    "        WHEN label='DoS attacks-Hulk' THEN 12\n",
    "        WHEN label='DDoS attacks-LOIC-HTTP' THEN 13\n",
    "        WHEN label='DDOS attack-HOIC' THEN 14\n",
    "        END as label\n",
    "        FROM trafficdata\"\"\".format(', '.join(best_features.index[:14]))\n",
    "sample = querydb(query, conn)"
   ]
  },
  {
   "cell_type": "code",
   "execution_count": 6,
   "metadata": {
    "ExecuteTime": {
     "end_time": "2020-05-29T06:50:05.510491Z",
     "start_time": "2020-05-29T06:50:04.318785Z"
    }
   },
   "outputs": [],
   "source": [
    "sample = np.ma.masked_invalid(sample) \n",
    "sample = sample.filled() # impute np.inf with large numbers"
   ]
  },
  {
   "cell_type": "code",
   "execution_count": 7,
   "metadata": {
    "ExecuteTime": {
     "end_time": "2020-05-29T06:50:13.629388Z",
     "start_time": "2020-05-29T06:50:05.523283Z"
    }
   },
   "outputs": [],
   "source": [
    "X_train, X_test, y_train, y_test = train_test_split(sample[:,:-1], sample[:,-1], stratify=sample[:,-1])\n",
    "del(sample)\n"
   ]
  },
  {
   "cell_type": "code",
   "execution_count": 8,
   "metadata": {
    "ExecuteTime": {
     "end_time": "2020-05-29T06:50:14.812393Z",
     "start_time": "2020-05-29T06:50:13.657606Z"
    }
   },
   "outputs": [
    {
     "name": "stderr",
     "output_type": "stream",
     "text": [
      "/home/alex/anaconda3/lib/python3.7/site-packages/tensorflow/python/framework/dtypes.py:526: FutureWarning: Passing (type, 1) or '1type' as a synonym of type is deprecated; in a future version of numpy, it will be understood as (type, (1,)) / '(1,)type'.\n",
      "  _np_qint8 = np.dtype([(\"qint8\", np.int8, 1)])\n",
      "/home/alex/anaconda3/lib/python3.7/site-packages/tensorflow/python/framework/dtypes.py:527: FutureWarning: Passing (type, 1) or '1type' as a synonym of type is deprecated; in a future version of numpy, it will be understood as (type, (1,)) / '(1,)type'.\n",
      "  _np_quint8 = np.dtype([(\"quint8\", np.uint8, 1)])\n",
      "/home/alex/anaconda3/lib/python3.7/site-packages/tensorflow/python/framework/dtypes.py:528: FutureWarning: Passing (type, 1) or '1type' as a synonym of type is deprecated; in a future version of numpy, it will be understood as (type, (1,)) / '(1,)type'.\n",
      "  _np_qint16 = np.dtype([(\"qint16\", np.int16, 1)])\n",
      "/home/alex/anaconda3/lib/python3.7/site-packages/tensorflow/python/framework/dtypes.py:529: FutureWarning: Passing (type, 1) or '1type' as a synonym of type is deprecated; in a future version of numpy, it will be understood as (type, (1,)) / '(1,)type'.\n",
      "  _np_quint16 = np.dtype([(\"quint16\", np.uint16, 1)])\n",
      "/home/alex/anaconda3/lib/python3.7/site-packages/tensorflow/python/framework/dtypes.py:530: FutureWarning: Passing (type, 1) or '1type' as a synonym of type is deprecated; in a future version of numpy, it will be understood as (type, (1,)) / '(1,)type'.\n",
      "  _np_qint32 = np.dtype([(\"qint32\", np.int32, 1)])\n",
      "/home/alex/anaconda3/lib/python3.7/site-packages/tensorflow/python/framework/dtypes.py:535: FutureWarning: Passing (type, 1) or '1type' as a synonym of type is deprecated; in a future version of numpy, it will be understood as (type, (1,)) / '(1,)type'.\n",
      "  np_resource = np.dtype([(\"resource\", np.ubyte, 1)])\n"
     ]
    }
   ],
   "source": [
    "from imblearn.under_sampling import RandomUnderSampler\n",
    "from imblearn.over_sampling import SMOTE\n",
    "from imblearn.pipeline import make_pipeline\n",
    "\n",
    "def oversampling_strat(y: 'numpy array of labels', max_multiple=3)-> dict:\n",
    "    \"\"\"\n",
    "    Specifies target number of samples for resampled classes. If a class has fewer observations than\n",
    "    target_num/max_multiple, returns the number of that class's observations times max_multiple.\n",
    "    \"\"\"\n",
    "    target_nums = {}\n",
    "    class_nums = np.unique(y, return_counts=True)\n",
    "    target_num = int(class_nums[1].mean())\n",
    "    for idx, label in enumerate(class_nums[0]):\n",
    "        count = class_nums[1][idx]\n",
    "        if count>=target_num:\n",
    "            target_nums[label]=count\n",
    "        elif count*max_multiple < target_num:\n",
    "            target_nums[label]=count*max_multiple\n",
    "        else:\n",
    "            target_nums[label]=target_num\n",
    "    return target_nums\n",
    "\n",
    "def undersampling_strat(y: 'numpy array of labels')-> dict:\n",
    "    \"\"\"\n",
    "    Matches majority class to second-most-frequent class.\n",
    "    \"\"\"\n",
    "    class_nums = np.unique(y, return_counts=True)\n",
    "    sorted_indices = class_nums[1].argsort()\n",
    "    majority_class = class_nums[0][sorted_indices[-1]]\n",
    "    target_nums = dict(zip(*class_nums))\n",
    "    target_nums[majority_class]=class_nums[1][sorted_indices[-2]]\n",
    "    return target_nums"
   ]
  },
  {
   "cell_type": "code",
   "execution_count": 9,
   "metadata": {
    "ExecuteTime": {
     "end_time": "2020-05-29T06:50:14.833671Z",
     "start_time": "2020-05-29T06:50:14.827755Z"
    }
   },
   "outputs": [],
   "source": [
    "from sklearn.model_selection import RandomizedSearchCV, StratifiedKFold\n",
    "undersampler = RandomUnderSampler(sampling_strategy=undersampling_strat)\n",
    "\n",
    "oversampler = SMOTE(sampling_strategy=oversampling_strat, n_jobs=-1)\n",
    "estimator = RandomForestClassifier(n_jobs=-1, verbose=2)\n",
    "pipe = make_pipeline(undersampler, oversampler, estimator)\n",
    "\n",
    "\n",
    "cv = StratifiedKFold(3)\n",
    "params = {'randomforestclassifier__max_features': range(2, 10),\n",
    "          'randomforestclassifier__min_impurity_decrease': np.linspace(0, 1e-6, 50),\n",
    "          'randomforestclassifier__class_weight': [None, 'balanced', 'balanced_subsample'],\n",
    "          'randomforestclassifier__min_samples_split': range(2, 10)\n",
    "          }\n",
    "\n",
    "RS = RandomizedSearchCV(pipe, param_distributions=params,\n",
    "                        n_iter=20, scoring=['neg_log_loss','f1_weighted','f1_macro', 'roc_auc_ovo', 'roc_auc_ovr_weighted'],\n",
    "                        refit='f1_weighted', random_state=42, cv=cv, \n",
    "                        verbose=2)"
   ]
  },
  {
   "cell_type": "code",
   "execution_count": 10,
   "metadata": {
    "ExecuteTime": {
     "end_time": "2020-05-29T13:15:43.030070Z",
     "start_time": "2020-05-29T06:50:30.865051Z"
    }
   },
   "outputs": [
    {
     "name": "stdout",
     "output_type": "stream",
     "text": [
      "Fitting 3 folds for each of 20 candidates, totalling 60 fits\n"
     ]
    },
    {
     "name": "stderr",
     "output_type": "stream",
     "text": [
      "[Parallel(n_jobs=1)]: Using backend SequentialBackend with 1 concurrent workers.\n"
     ]
    },
    {
     "name": "stdout",
     "output_type": "stream",
     "text": [
      "[CV] randomforestclassifier__min_samples_split=8, randomforestclassifier__min_impurity_decrease=1.6326530612244896e-07, randomforestclassifier__max_features=4, randomforestclassifier__class_weight=balanced_subsample \n"
     ]
    },
    {
     "name": "stderr",
     "output_type": "stream",
     "text": [
      "[Parallel(n_jobs=-1)]: Using backend LokyBackend with 8 concurrent workers.\n",
      "/home/alex/anaconda3/lib/python3.7/site-packages/joblib/externals/loky/process_executor.py:706: UserWarning: A worker stopped while some jobs were given to the executor. This can be caused by a too short worker timeout or by a memory leak.\n",
      "  \"timeout or by a memory leak.\", UserWarning\n",
      "[Parallel(n_jobs=-1)]: Done  25 tasks      | elapsed:  1.1min\n",
      "[Parallel(n_jobs=-1)]: Done 100 out of 100 | elapsed:  3.4min finished\n",
      "[Parallel(n_jobs=8)]: Using backend ThreadingBackend with 8 concurrent workers.\n",
      "[Parallel(n_jobs=8)]: Done  25 tasks      | elapsed:   10.3s\n",
      "[Parallel(n_jobs=8)]: Done 100 out of 100 | elapsed:   33.3s finished\n",
      "[Parallel(n_jobs=8)]: Using backend ThreadingBackend with 8 concurrent workers.\n",
      "[Parallel(n_jobs=8)]: Done  25 tasks      | elapsed:    9.9s\n",
      "[Parallel(n_jobs=8)]: Done 100 out of 100 | elapsed:   32.7s finished\n"
     ]
    },
    {
     "name": "stdout",
     "output_type": "stream",
     "text": [
      "[CV]  randomforestclassifier__min_samples_split=8, randomforestclassifier__min_impurity_decrease=1.6326530612244896e-07, randomforestclassifier__max_features=4, randomforestclassifier__class_weight=balanced_subsample, total= 6.0min\n",
      "[CV] randomforestclassifier__min_samples_split=8, randomforestclassifier__min_impurity_decrease=1.6326530612244896e-07, randomforestclassifier__max_features=4, randomforestclassifier__class_weight=balanced_subsample \n"
     ]
    },
    {
     "name": "stderr",
     "output_type": "stream",
     "text": [
      "[Parallel(n_jobs=1)]: Done   1 out of   1 | elapsed:  6.0min remaining:    0.0s\n",
      "[Parallel(n_jobs=-1)]: Using backend LokyBackend with 8 concurrent workers.\n",
      "[Parallel(n_jobs=-1)]: Done  25 tasks      | elapsed:  1.0min\n",
      "[Parallel(n_jobs=-1)]: Done 100 out of 100 | elapsed:  3.3min finished\n",
      "[Parallel(n_jobs=8)]: Using backend ThreadingBackend with 8 concurrent workers.\n",
      "[Parallel(n_jobs=8)]: Done  25 tasks      | elapsed:    9.7s\n",
      "[Parallel(n_jobs=8)]: Done 100 out of 100 | elapsed:   32.7s finished\n",
      "[Parallel(n_jobs=8)]: Using backend ThreadingBackend with 8 concurrent workers.\n",
      "[Parallel(n_jobs=8)]: Done  25 tasks      | elapsed:    9.8s\n",
      "[Parallel(n_jobs=8)]: Done 100 out of 100 | elapsed:   32.6s finished\n"
     ]
    },
    {
     "name": "stdout",
     "output_type": "stream",
     "text": [
      "[CV]  randomforestclassifier__min_samples_split=8, randomforestclassifier__min_impurity_decrease=1.6326530612244896e-07, randomforestclassifier__max_features=4, randomforestclassifier__class_weight=balanced_subsample, total= 6.0min\n",
      "[CV] randomforestclassifier__min_samples_split=8, randomforestclassifier__min_impurity_decrease=1.6326530612244896e-07, randomforestclassifier__max_features=4, randomforestclassifier__class_weight=balanced_subsample \n"
     ]
    },
    {
     "name": "stderr",
     "output_type": "stream",
     "text": [
      "[Parallel(n_jobs=-1)]: Using backend LokyBackend with 8 concurrent workers.\n",
      "[Parallel(n_jobs=-1)]: Done  25 tasks      | elapsed:  1.0min\n",
      "[Parallel(n_jobs=-1)]: Done 100 out of 100 | elapsed:  3.3min finished\n",
      "[Parallel(n_jobs=8)]: Using backend ThreadingBackend with 8 concurrent workers.\n",
      "[Parallel(n_jobs=8)]: Done  25 tasks      | elapsed:    9.6s\n",
      "[Parallel(n_jobs=8)]: Done 100 out of 100 | elapsed:   32.6s finished\n",
      "[Parallel(n_jobs=8)]: Using backend ThreadingBackend with 8 concurrent workers.\n",
      "[Parallel(n_jobs=8)]: Done  25 tasks      | elapsed:    9.8s\n",
      "[Parallel(n_jobs=8)]: Done 100 out of 100 | elapsed:   32.6s finished\n"
     ]
    },
    {
     "name": "stdout",
     "output_type": "stream",
     "text": [
      "[CV]  randomforestclassifier__min_samples_split=8, randomforestclassifier__min_impurity_decrease=1.6326530612244896e-07, randomforestclassifier__max_features=4, randomforestclassifier__class_weight=balanced_subsample, total= 6.0min\n",
      "[CV] randomforestclassifier__min_samples_split=6, randomforestclassifier__min_impurity_decrease=1.4285714285714285e-07, randomforestclassifier__max_features=4, randomforestclassifier__class_weight=None \n"
     ]
    },
    {
     "name": "stderr",
     "output_type": "stream",
     "text": [
      "[Parallel(n_jobs=-1)]: Using backend LokyBackend with 8 concurrent workers.\n",
      "[Parallel(n_jobs=-1)]: Done  25 tasks      | elapsed:   51.7s\n",
      "[Parallel(n_jobs=-1)]: Done 100 out of 100 | elapsed:  2.9min finished\n",
      "[Parallel(n_jobs=8)]: Using backend ThreadingBackend with 8 concurrent workers.\n",
      "[Parallel(n_jobs=8)]: Done  25 tasks      | elapsed:    9.8s\n",
      "[Parallel(n_jobs=8)]: Done 100 out of 100 | elapsed:   32.7s finished\n",
      "[Parallel(n_jobs=8)]: Using backend ThreadingBackend with 8 concurrent workers.\n",
      "[Parallel(n_jobs=8)]: Done  25 tasks      | elapsed:    9.9s\n",
      "[Parallel(n_jobs=8)]: Done 100 out of 100 | elapsed:   32.7s finished\n"
     ]
    },
    {
     "name": "stdout",
     "output_type": "stream",
     "text": [
      "[CV]  randomforestclassifier__min_samples_split=6, randomforestclassifier__min_impurity_decrease=1.4285714285714285e-07, randomforestclassifier__max_features=4, randomforestclassifier__class_weight=None, total= 5.5min\n",
      "[CV] randomforestclassifier__min_samples_split=6, randomforestclassifier__min_impurity_decrease=1.4285714285714285e-07, randomforestclassifier__max_features=4, randomforestclassifier__class_weight=None \n"
     ]
    },
    {
     "name": "stderr",
     "output_type": "stream",
     "text": [
      "[Parallel(n_jobs=-1)]: Using backend LokyBackend with 8 concurrent workers.\n",
      "[Parallel(n_jobs=-1)]: Done  25 tasks      | elapsed:   51.8s\n",
      "[Parallel(n_jobs=-1)]: Done 100 out of 100 | elapsed:  2.9min finished\n",
      "[Parallel(n_jobs=8)]: Using backend ThreadingBackend with 8 concurrent workers.\n",
      "[Parallel(n_jobs=8)]: Done  25 tasks      | elapsed:    9.8s\n",
      "[Parallel(n_jobs=8)]: Done 100 out of 100 | elapsed:   33.0s finished\n",
      "[Parallel(n_jobs=8)]: Using backend ThreadingBackend with 8 concurrent workers.\n",
      "[Parallel(n_jobs=8)]: Done  25 tasks      | elapsed:    9.9s\n",
      "[Parallel(n_jobs=8)]: Done 100 out of 100 | elapsed:   32.8s finished\n"
     ]
    },
    {
     "name": "stdout",
     "output_type": "stream",
     "text": [
      "[CV]  randomforestclassifier__min_samples_split=6, randomforestclassifier__min_impurity_decrease=1.4285714285714285e-07, randomforestclassifier__max_features=4, randomforestclassifier__class_weight=None, total= 5.5min\n",
      "[CV] randomforestclassifier__min_samples_split=6, randomforestclassifier__min_impurity_decrease=1.4285714285714285e-07, randomforestclassifier__max_features=4, randomforestclassifier__class_weight=None \n"
     ]
    },
    {
     "name": "stderr",
     "output_type": "stream",
     "text": [
      "[Parallel(n_jobs=-1)]: Using backend LokyBackend with 8 concurrent workers.\n",
      "[Parallel(n_jobs=-1)]: Done  25 tasks      | elapsed:   52.7s\n",
      "[Parallel(n_jobs=-1)]: Done 100 out of 100 | elapsed:  2.8min finished\n",
      "[Parallel(n_jobs=8)]: Using backend ThreadingBackend with 8 concurrent workers.\n",
      "[Parallel(n_jobs=8)]: Done  25 tasks      | elapsed:   10.0s\n",
      "[Parallel(n_jobs=8)]: Done 100 out of 100 | elapsed:   32.9s finished\n",
      "[Parallel(n_jobs=8)]: Using backend ThreadingBackend with 8 concurrent workers.\n",
      "[Parallel(n_jobs=8)]: Done  25 tasks      | elapsed:   10.0s\n",
      "[Parallel(n_jobs=8)]: Done 100 out of 100 | elapsed:   32.9s finished\n"
     ]
    },
    {
     "name": "stdout",
     "output_type": "stream",
     "text": [
      "[CV]  randomforestclassifier__min_samples_split=6, randomforestclassifier__min_impurity_decrease=1.4285714285714285e-07, randomforestclassifier__max_features=4, randomforestclassifier__class_weight=None, total= 5.5min\n",
      "[CV] randomforestclassifier__min_samples_split=8, randomforestclassifier__min_impurity_decrease=4.6938775510204074e-07, randomforestclassifier__max_features=7, randomforestclassifier__class_weight=balanced \n"
     ]
    },
    {
     "name": "stderr",
     "output_type": "stream",
     "text": [
      "[Parallel(n_jobs=-1)]: Using backend LokyBackend with 8 concurrent workers.\n",
      "[Parallel(n_jobs=-1)]: Done  25 tasks      | elapsed:  1.4min\n",
      "[Parallel(n_jobs=-1)]: Done 100 out of 100 | elapsed:  4.8min finished\n",
      "[Parallel(n_jobs=8)]: Using backend ThreadingBackend with 8 concurrent workers.\n",
      "[Parallel(n_jobs=8)]: Done  25 tasks      | elapsed:    8.3s\n",
      "[Parallel(n_jobs=8)]: Done 100 out of 100 | elapsed:   28.3s finished\n",
      "[Parallel(n_jobs=8)]: Using backend ThreadingBackend with 8 concurrent workers.\n",
      "[Parallel(n_jobs=8)]: Done  25 tasks      | elapsed:    8.3s\n",
      "[Parallel(n_jobs=8)]: Done 100 out of 100 | elapsed:   28.2s finished\n"
     ]
    },
    {
     "name": "stdout",
     "output_type": "stream",
     "text": [
      "[CV]  randomforestclassifier__min_samples_split=8, randomforestclassifier__min_impurity_decrease=4.6938775510204074e-07, randomforestclassifier__max_features=7, randomforestclassifier__class_weight=balanced, total= 7.3min\n",
      "[CV] randomforestclassifier__min_samples_split=8, randomforestclassifier__min_impurity_decrease=4.6938775510204074e-07, randomforestclassifier__max_features=7, randomforestclassifier__class_weight=balanced \n"
     ]
    },
    {
     "name": "stderr",
     "output_type": "stream",
     "text": [
      "[Parallel(n_jobs=-1)]: Using backend LokyBackend with 8 concurrent workers.\n",
      "[Parallel(n_jobs=-1)]: Done  25 tasks      | elapsed:  1.5min\n",
      "[Parallel(n_jobs=-1)]: Done 100 out of 100 | elapsed:  4.8min finished\n",
      "[Parallel(n_jobs=8)]: Using backend ThreadingBackend with 8 concurrent workers.\n",
      "[Parallel(n_jobs=8)]: Done  25 tasks      | elapsed:    8.3s\n",
      "[Parallel(n_jobs=8)]: Done 100 out of 100 | elapsed:   28.4s finished\n",
      "[Parallel(n_jobs=8)]: Using backend ThreadingBackend with 8 concurrent workers.\n",
      "[Parallel(n_jobs=8)]: Done  25 tasks      | elapsed:    8.4s\n",
      "[Parallel(n_jobs=8)]: Done 100 out of 100 | elapsed:   28.5s finished\n"
     ]
    },
    {
     "name": "stdout",
     "output_type": "stream",
     "text": [
      "[CV]  randomforestclassifier__min_samples_split=8, randomforestclassifier__min_impurity_decrease=4.6938775510204074e-07, randomforestclassifier__max_features=7, randomforestclassifier__class_weight=balanced, total= 7.3min\n",
      "[CV] randomforestclassifier__min_samples_split=8, randomforestclassifier__min_impurity_decrease=4.6938775510204074e-07, randomforestclassifier__max_features=7, randomforestclassifier__class_weight=balanced \n"
     ]
    },
    {
     "name": "stderr",
     "output_type": "stream",
     "text": [
      "[Parallel(n_jobs=-1)]: Using backend LokyBackend with 8 concurrent workers.\n",
      "[Parallel(n_jobs=-1)]: Done  25 tasks      | elapsed:  1.5min\n",
      "[Parallel(n_jobs=-1)]: Done 100 out of 100 | elapsed:  4.8min finished\n",
      "[Parallel(n_jobs=8)]: Using backend ThreadingBackend with 8 concurrent workers.\n",
      "[Parallel(n_jobs=8)]: Done  25 tasks      | elapsed:    8.4s\n",
      "[Parallel(n_jobs=8)]: Done 100 out of 100 | elapsed:   28.6s finished\n",
      "[Parallel(n_jobs=8)]: Using backend ThreadingBackend with 8 concurrent workers.\n",
      "[Parallel(n_jobs=8)]: Done  25 tasks      | elapsed:    8.5s\n",
      "[Parallel(n_jobs=8)]: Done 100 out of 100 | elapsed:   28.3s finished\n"
     ]
    },
    {
     "name": "stdout",
     "output_type": "stream",
     "text": [
      "[CV]  randomforestclassifier__min_samples_split=8, randomforestclassifier__min_impurity_decrease=4.6938775510204074e-07, randomforestclassifier__max_features=7, randomforestclassifier__class_weight=balanced, total= 7.3min\n",
      "[CV] randomforestclassifier__min_samples_split=9, randomforestclassifier__min_impurity_decrease=9.795918367346939e-07, randomforestclassifier__max_features=6, randomforestclassifier__class_weight=balanced \n"
     ]
    },
    {
     "name": "stderr",
     "output_type": "stream",
     "text": [
      "[Parallel(n_jobs=-1)]: Using backend LokyBackend with 8 concurrent workers.\n",
      "[Parallel(n_jobs=-1)]: Done  25 tasks      | elapsed:  1.2min\n",
      "[Parallel(n_jobs=-1)]: Done 100 out of 100 | elapsed:  4.1min finished\n",
      "[Parallel(n_jobs=8)]: Using backend ThreadingBackend with 8 concurrent workers.\n",
      "[Parallel(n_jobs=8)]: Done  25 tasks      | elapsed:    6.9s\n",
      "[Parallel(n_jobs=8)]: Done 100 out of 100 | elapsed:   23.6s finished\n",
      "[Parallel(n_jobs=8)]: Using backend ThreadingBackend with 8 concurrent workers.\n",
      "[Parallel(n_jobs=8)]: Done  25 tasks      | elapsed:    7.0s\n",
      "[Parallel(n_jobs=8)]: Done 100 out of 100 | elapsed:   24.0s finished\n"
     ]
    },
    {
     "name": "stdout",
     "output_type": "stream",
     "text": [
      "[CV]  randomforestclassifier__min_samples_split=9, randomforestclassifier__min_impurity_decrease=9.795918367346939e-07, randomforestclassifier__max_features=6, randomforestclassifier__class_weight=balanced, total= 6.5min\n",
      "[CV] randomforestclassifier__min_samples_split=9, randomforestclassifier__min_impurity_decrease=9.795918367346939e-07, randomforestclassifier__max_features=6, randomforestclassifier__class_weight=balanced \n"
     ]
    },
    {
     "name": "stderr",
     "output_type": "stream",
     "text": [
      "[Parallel(n_jobs=-1)]: Using backend LokyBackend with 8 concurrent workers.\n",
      "[Parallel(n_jobs=-1)]: Done  25 tasks      | elapsed:  1.3min\n",
      "[Parallel(n_jobs=-1)]: Done 100 out of 100 | elapsed:  4.1min finished\n",
      "[Parallel(n_jobs=8)]: Using backend ThreadingBackend with 8 concurrent workers.\n",
      "[Parallel(n_jobs=8)]: Done  25 tasks      | elapsed:    6.7s\n",
      "[Parallel(n_jobs=8)]: Done 100 out of 100 | elapsed:   23.7s finished\n",
      "[Parallel(n_jobs=8)]: Using backend ThreadingBackend with 8 concurrent workers.\n",
      "[Parallel(n_jobs=8)]: Done  25 tasks      | elapsed:    6.9s\n",
      "[Parallel(n_jobs=8)]: Done 100 out of 100 | elapsed:   23.9s finished\n"
     ]
    },
    {
     "name": "stdout",
     "output_type": "stream",
     "text": [
      "[CV]  randomforestclassifier__min_samples_split=9, randomforestclassifier__min_impurity_decrease=9.795918367346939e-07, randomforestclassifier__max_features=6, randomforestclassifier__class_weight=balanced, total= 6.4min\n",
      "[CV] randomforestclassifier__min_samples_split=9, randomforestclassifier__min_impurity_decrease=9.795918367346939e-07, randomforestclassifier__max_features=6, randomforestclassifier__class_weight=balanced \n"
     ]
    },
    {
     "name": "stderr",
     "output_type": "stream",
     "text": [
      "[Parallel(n_jobs=-1)]: Using backend LokyBackend with 8 concurrent workers.\n",
      "[Parallel(n_jobs=-1)]: Done  25 tasks      | elapsed:  1.2min\n",
      "[Parallel(n_jobs=-1)]: Done 100 out of 100 | elapsed:  4.0min finished\n",
      "[Parallel(n_jobs=8)]: Using backend ThreadingBackend with 8 concurrent workers.\n",
      "[Parallel(n_jobs=8)]: Done  25 tasks      | elapsed:    7.0s\n",
      "[Parallel(n_jobs=8)]: Done 100 out of 100 | elapsed:   24.0s finished\n",
      "[Parallel(n_jobs=8)]: Using backend ThreadingBackend with 8 concurrent workers.\n",
      "[Parallel(n_jobs=8)]: Done  25 tasks      | elapsed:    7.1s\n",
      "[Parallel(n_jobs=8)]: Done 100 out of 100 | elapsed:   23.8s finished\n"
     ]
    },
    {
     "name": "stdout",
     "output_type": "stream",
     "text": [
      "[CV]  randomforestclassifier__min_samples_split=9, randomforestclassifier__min_impurity_decrease=9.795918367346939e-07, randomforestclassifier__max_features=6, randomforestclassifier__class_weight=balanced, total= 6.4min\n",
      "[CV] randomforestclassifier__min_samples_split=8, randomforestclassifier__min_impurity_decrease=3.265306122448979e-07, randomforestclassifier__max_features=8, randomforestclassifier__class_weight=balanced \n"
     ]
    },
    {
     "name": "stderr",
     "output_type": "stream",
     "text": [
      "[Parallel(n_jobs=-1)]: Using backend LokyBackend with 8 concurrent workers.\n",
      "[Parallel(n_jobs=-1)]: Done  25 tasks      | elapsed:  1.7min\n",
      "[Parallel(n_jobs=-1)]: Done 100 out of 100 | elapsed:  5.7min finished\n",
      "[Parallel(n_jobs=8)]: Using backend ThreadingBackend with 8 concurrent workers.\n",
      "[Parallel(n_jobs=8)]: Done  25 tasks      | elapsed:    8.9s\n",
      "[Parallel(n_jobs=8)]: Done 100 out of 100 | elapsed:   30.1s finished\n",
      "[Parallel(n_jobs=8)]: Using backend ThreadingBackend with 8 concurrent workers.\n",
      "[Parallel(n_jobs=8)]: Done  25 tasks      | elapsed:    9.0s\n",
      "[Parallel(n_jobs=8)]: Done 100 out of 100 | elapsed:   30.2s finished\n"
     ]
    },
    {
     "name": "stdout",
     "output_type": "stream",
     "text": [
      "[CV]  randomforestclassifier__min_samples_split=8, randomforestclassifier__min_impurity_decrease=3.265306122448979e-07, randomforestclassifier__max_features=8, randomforestclassifier__class_weight=balanced, total= 8.2min\n",
      "[CV] randomforestclassifier__min_samples_split=8, randomforestclassifier__min_impurity_decrease=3.265306122448979e-07, randomforestclassifier__max_features=8, randomforestclassifier__class_weight=balanced \n"
     ]
    },
    {
     "name": "stderr",
     "output_type": "stream",
     "text": [
      "[Parallel(n_jobs=-1)]: Using backend LokyBackend with 8 concurrent workers.\n",
      "[Parallel(n_jobs=-1)]: Done  25 tasks      | elapsed:  1.8min\n",
      "[Parallel(n_jobs=-1)]: Done 100 out of 100 | elapsed:  5.6min finished\n",
      "[Parallel(n_jobs=8)]: Using backend ThreadingBackend with 8 concurrent workers.\n",
      "[Parallel(n_jobs=8)]: Done  25 tasks      | elapsed:    9.0s\n",
      "[Parallel(n_jobs=8)]: Done 100 out of 100 | elapsed:   30.1s finished\n",
      "[Parallel(n_jobs=8)]: Using backend ThreadingBackend with 8 concurrent workers.\n",
      "[Parallel(n_jobs=8)]: Done  25 tasks      | elapsed:    9.1s\n",
      "[Parallel(n_jobs=8)]: Done 100 out of 100 | elapsed:   30.2s finished\n"
     ]
    },
    {
     "name": "stdout",
     "output_type": "stream",
     "text": [
      "[CV]  randomforestclassifier__min_samples_split=8, randomforestclassifier__min_impurity_decrease=3.265306122448979e-07, randomforestclassifier__max_features=8, randomforestclassifier__class_weight=balanced, total= 8.2min\n",
      "[CV] randomforestclassifier__min_samples_split=8, randomforestclassifier__min_impurity_decrease=3.265306122448979e-07, randomforestclassifier__max_features=8, randomforestclassifier__class_weight=balanced \n"
     ]
    },
    {
     "name": "stderr",
     "output_type": "stream",
     "text": [
      "[Parallel(n_jobs=-1)]: Using backend LokyBackend with 8 concurrent workers.\n",
      "[Parallel(n_jobs=-1)]: Done  25 tasks      | elapsed:  1.6min\n",
      "[Parallel(n_jobs=-1)]: Done 100 out of 100 | elapsed:  5.5min finished\n",
      "[Parallel(n_jobs=8)]: Using backend ThreadingBackend with 8 concurrent workers.\n",
      "[Parallel(n_jobs=8)]: Done  25 tasks      | elapsed:    8.9s\n",
      "[Parallel(n_jobs=8)]: Done 100 out of 100 | elapsed:   29.7s finished\n",
      "[Parallel(n_jobs=8)]: Using backend ThreadingBackend with 8 concurrent workers.\n",
      "[Parallel(n_jobs=8)]: Done  25 tasks      | elapsed:    9.0s\n",
      "[Parallel(n_jobs=8)]: Done 100 out of 100 | elapsed:   29.9s finished\n"
     ]
    },
    {
     "name": "stdout",
     "output_type": "stream",
     "text": [
      "[CV]  randomforestclassifier__min_samples_split=8, randomforestclassifier__min_impurity_decrease=3.265306122448979e-07, randomforestclassifier__max_features=8, randomforestclassifier__class_weight=balanced, total= 8.0min\n",
      "[CV] randomforestclassifier__min_samples_split=3, randomforestclassifier__min_impurity_decrease=6.734693877551019e-07, randomforestclassifier__max_features=9, randomforestclassifier__class_weight=balanced \n"
     ]
    },
    {
     "name": "stderr",
     "output_type": "stream",
     "text": [
      "[Parallel(n_jobs=-1)]: Using backend LokyBackend with 8 concurrent workers.\n",
      "[Parallel(n_jobs=-1)]: Done  25 tasks      | elapsed:  1.8min\n",
      "[Parallel(n_jobs=-1)]: Done 100 out of 100 | elapsed:  6.1min finished\n",
      "[Parallel(n_jobs=8)]: Using backend ThreadingBackend with 8 concurrent workers.\n",
      "[Parallel(n_jobs=8)]: Done  25 tasks      | elapsed:    7.4s\n",
      "[Parallel(n_jobs=8)]: Done 100 out of 100 | elapsed:   25.9s finished\n",
      "[Parallel(n_jobs=8)]: Using backend ThreadingBackend with 8 concurrent workers.\n",
      "[Parallel(n_jobs=8)]: Done  25 tasks      | elapsed:    7.7s\n",
      "[Parallel(n_jobs=8)]: Done 100 out of 100 | elapsed:   26.3s finished\n"
     ]
    },
    {
     "name": "stdout",
     "output_type": "stream",
     "text": [
      "[CV]  randomforestclassifier__min_samples_split=3, randomforestclassifier__min_impurity_decrease=6.734693877551019e-07, randomforestclassifier__max_features=9, randomforestclassifier__class_weight=balanced, total= 8.5min\n",
      "[CV] randomforestclassifier__min_samples_split=3, randomforestclassifier__min_impurity_decrease=6.734693877551019e-07, randomforestclassifier__max_features=9, randomforestclassifier__class_weight=balanced \n"
     ]
    },
    {
     "name": "stderr",
     "output_type": "stream",
     "text": [
      "[Parallel(n_jobs=-1)]: Using backend LokyBackend with 8 concurrent workers.\n",
      "[Parallel(n_jobs=-1)]: Done  25 tasks      | elapsed:  1.8min\n",
      "[Parallel(n_jobs=-1)]: Done 100 out of 100 | elapsed:  6.0min finished\n",
      "[Parallel(n_jobs=8)]: Using backend ThreadingBackend with 8 concurrent workers.\n",
      "[Parallel(n_jobs=8)]: Done  25 tasks      | elapsed:    7.7s\n",
      "[Parallel(n_jobs=8)]: Done 100 out of 100 | elapsed:   26.5s finished\n",
      "[Parallel(n_jobs=8)]: Using backend ThreadingBackend with 8 concurrent workers.\n",
      "[Parallel(n_jobs=8)]: Done  25 tasks      | elapsed:    7.8s\n",
      "[Parallel(n_jobs=8)]: Done 100 out of 100 | elapsed:   26.2s finished\n"
     ]
    },
    {
     "name": "stdout",
     "output_type": "stream",
     "text": [
      "[CV]  randomforestclassifier__min_samples_split=3, randomforestclassifier__min_impurity_decrease=6.734693877551019e-07, randomforestclassifier__max_features=9, randomforestclassifier__class_weight=balanced, total= 8.4min\n",
      "[CV] randomforestclassifier__min_samples_split=3, randomforestclassifier__min_impurity_decrease=6.734693877551019e-07, randomforestclassifier__max_features=9, randomforestclassifier__class_weight=balanced \n"
     ]
    },
    {
     "name": "stderr",
     "output_type": "stream",
     "text": [
      "[Parallel(n_jobs=-1)]: Using backend LokyBackend with 8 concurrent workers.\n",
      "[Parallel(n_jobs=-1)]: Done  25 tasks      | elapsed:  1.8min\n",
      "[Parallel(n_jobs=-1)]: Done 100 out of 100 | elapsed:  6.1min finished\n",
      "[Parallel(n_jobs=8)]: Using backend ThreadingBackend with 8 concurrent workers.\n",
      "[Parallel(n_jobs=8)]: Done  25 tasks      | elapsed:    7.7s\n",
      "[Parallel(n_jobs=8)]: Done 100 out of 100 | elapsed:   26.2s finished\n",
      "[Parallel(n_jobs=8)]: Using backend ThreadingBackend with 8 concurrent workers.\n",
      "[Parallel(n_jobs=8)]: Done  25 tasks      | elapsed:    7.8s\n",
      "[Parallel(n_jobs=8)]: Done 100 out of 100 | elapsed:   26.6s finished\n"
     ]
    },
    {
     "name": "stdout",
     "output_type": "stream",
     "text": [
      "[CV]  randomforestclassifier__min_samples_split=3, randomforestclassifier__min_impurity_decrease=6.734693877551019e-07, randomforestclassifier__max_features=9, randomforestclassifier__class_weight=balanced, total= 8.5min\n",
      "[CV] randomforestclassifier__min_samples_split=4, randomforestclassifier__min_impurity_decrease=1.6326530612244896e-07, randomforestclassifier__max_features=3, randomforestclassifier__class_weight=None \n"
     ]
    },
    {
     "name": "stderr",
     "output_type": "stream",
     "text": [
      "[Parallel(n_jobs=-1)]: Using backend LokyBackend with 8 concurrent workers.\n",
      "[Parallel(n_jobs=-1)]: Done  25 tasks      | elapsed:   40.9s\n",
      "[Parallel(n_jobs=-1)]: Done 100 out of 100 | elapsed:  2.2min finished\n",
      "[Parallel(n_jobs=8)]: Using backend ThreadingBackend with 8 concurrent workers.\n",
      "[Parallel(n_jobs=8)]: Done  25 tasks      | elapsed:    9.9s\n",
      "[Parallel(n_jobs=8)]: Done 100 out of 100 | elapsed:   32.9s finished\n",
      "[Parallel(n_jobs=8)]: Using backend ThreadingBackend with 8 concurrent workers.\n",
      "[Parallel(n_jobs=8)]: Done  25 tasks      | elapsed:    9.8s\n",
      "[Parallel(n_jobs=8)]: Done 100 out of 100 | elapsed:   33.1s finished\n"
     ]
    },
    {
     "name": "stdout",
     "output_type": "stream",
     "text": [
      "[CV]  randomforestclassifier__min_samples_split=4, randomforestclassifier__min_impurity_decrease=1.6326530612244896e-07, randomforestclassifier__max_features=3, randomforestclassifier__class_weight=None, total= 4.9min\n",
      "[CV] randomforestclassifier__min_samples_split=4, randomforestclassifier__min_impurity_decrease=1.6326530612244896e-07, randomforestclassifier__max_features=3, randomforestclassifier__class_weight=None \n"
     ]
    },
    {
     "name": "stderr",
     "output_type": "stream",
     "text": [
      "[Parallel(n_jobs=-1)]: Using backend LokyBackend with 8 concurrent workers.\n",
      "[Parallel(n_jobs=-1)]: Done  25 tasks      | elapsed:   41.5s\n",
      "[Parallel(n_jobs=-1)]: Done 100 out of 100 | elapsed:  2.3min finished\n",
      "[Parallel(n_jobs=8)]: Using backend ThreadingBackend with 8 concurrent workers.\n",
      "[Parallel(n_jobs=8)]: Done  25 tasks      | elapsed:    9.7s\n",
      "[Parallel(n_jobs=8)]: Done 100 out of 100 | elapsed:   32.8s finished\n",
      "[Parallel(n_jobs=8)]: Using backend ThreadingBackend with 8 concurrent workers.\n",
      "[Parallel(n_jobs=8)]: Done  25 tasks      | elapsed:    9.8s\n",
      "[Parallel(n_jobs=8)]: Done 100 out of 100 | elapsed:   32.9s finished\n"
     ]
    },
    {
     "name": "stdout",
     "output_type": "stream",
     "text": [
      "[CV]  randomforestclassifier__min_samples_split=4, randomforestclassifier__min_impurity_decrease=1.6326530612244896e-07, randomforestclassifier__max_features=3, randomforestclassifier__class_weight=None, total= 4.9min\n",
      "[CV] randomforestclassifier__min_samples_split=4, randomforestclassifier__min_impurity_decrease=1.6326530612244896e-07, randomforestclassifier__max_features=3, randomforestclassifier__class_weight=None \n"
     ]
    },
    {
     "name": "stderr",
     "output_type": "stream",
     "text": [
      "[Parallel(n_jobs=-1)]: Using backend LokyBackend with 8 concurrent workers.\n",
      "[Parallel(n_jobs=-1)]: Done  25 tasks      | elapsed:   41.2s\n",
      "[Parallel(n_jobs=-1)]: Done 100 out of 100 | elapsed:  2.2min finished\n",
      "[Parallel(n_jobs=8)]: Using backend ThreadingBackend with 8 concurrent workers.\n",
      "[Parallel(n_jobs=8)]: Done  25 tasks      | elapsed:    9.7s\n",
      "[Parallel(n_jobs=8)]: Done 100 out of 100 | elapsed:   32.9s finished\n",
      "[Parallel(n_jobs=8)]: Using backend ThreadingBackend with 8 concurrent workers.\n",
      "[Parallel(n_jobs=8)]: Done  25 tasks      | elapsed:    9.7s\n",
      "[Parallel(n_jobs=8)]: Done 100 out of 100 | elapsed:   33.0s finished\n"
     ]
    },
    {
     "name": "stdout",
     "output_type": "stream",
     "text": [
      "[CV]  randomforestclassifier__min_samples_split=4, randomforestclassifier__min_impurity_decrease=1.6326530612244896e-07, randomforestclassifier__max_features=3, randomforestclassifier__class_weight=None, total= 4.8min\n",
      "[CV] randomforestclassifier__min_samples_split=4, randomforestclassifier__min_impurity_decrease=6.122448979591837e-08, randomforestclassifier__max_features=5, randomforestclassifier__class_weight=balanced \n"
     ]
    },
    {
     "name": "stderr",
     "output_type": "stream",
     "text": [
      "[Parallel(n_jobs=-1)]: Using backend LokyBackend with 8 concurrent workers.\n",
      "[Parallel(n_jobs=-1)]: Done  25 tasks      | elapsed:  1.2min\n",
      "[Parallel(n_jobs=-1)]: Done 100 out of 100 | elapsed:  3.8min finished\n",
      "[Parallel(n_jobs=8)]: Using backend ThreadingBackend with 8 concurrent workers.\n",
      "[Parallel(n_jobs=8)]: Done  25 tasks      | elapsed:   10.6s\n",
      "[Parallel(n_jobs=8)]: Done 100 out of 100 | elapsed:   35.0s finished\n",
      "[Parallel(n_jobs=8)]: Using backend ThreadingBackend with 8 concurrent workers.\n",
      "[Parallel(n_jobs=8)]: Done  25 tasks      | elapsed:   10.8s\n",
      "[Parallel(n_jobs=8)]: Done 100 out of 100 | elapsed:   35.3s finished\n"
     ]
    },
    {
     "name": "stdout",
     "output_type": "stream",
     "text": [
      "[CV]  randomforestclassifier__min_samples_split=4, randomforestclassifier__min_impurity_decrease=6.122448979591837e-08, randomforestclassifier__max_features=5, randomforestclassifier__class_weight=balanced, total= 6.5min\n",
      "[CV] randomforestclassifier__min_samples_split=4, randomforestclassifier__min_impurity_decrease=6.122448979591837e-08, randomforestclassifier__max_features=5, randomforestclassifier__class_weight=balanced \n"
     ]
    },
    {
     "name": "stderr",
     "output_type": "stream",
     "text": [
      "[Parallel(n_jobs=-1)]: Using backend LokyBackend with 8 concurrent workers.\n",
      "[Parallel(n_jobs=-1)]: Done  25 tasks      | elapsed:  1.1min\n",
      "[Parallel(n_jobs=-1)]: Done 100 out of 100 | elapsed:  3.8min finished\n",
      "[Parallel(n_jobs=8)]: Using backend ThreadingBackend with 8 concurrent workers.\n",
      "[Parallel(n_jobs=8)]: Done  25 tasks      | elapsed:   10.6s\n",
      "[Parallel(n_jobs=8)]: Done 100 out of 100 | elapsed:   35.1s finished\n",
      "[Parallel(n_jobs=8)]: Using backend ThreadingBackend with 8 concurrent workers.\n",
      "[Parallel(n_jobs=8)]: Done  25 tasks      | elapsed:   10.4s\n",
      "[Parallel(n_jobs=8)]: Done 100 out of 100 | elapsed:   34.8s finished\n"
     ]
    },
    {
     "name": "stdout",
     "output_type": "stream",
     "text": [
      "[CV]  randomforestclassifier__min_samples_split=4, randomforestclassifier__min_impurity_decrease=6.122448979591837e-08, randomforestclassifier__max_features=5, randomforestclassifier__class_weight=balanced, total= 6.5min\n",
      "[CV] randomforestclassifier__min_samples_split=4, randomforestclassifier__min_impurity_decrease=6.122448979591837e-08, randomforestclassifier__max_features=5, randomforestclassifier__class_weight=balanced \n"
     ]
    },
    {
     "name": "stderr",
     "output_type": "stream",
     "text": [
      "[Parallel(n_jobs=-1)]: Using backend LokyBackend with 8 concurrent workers.\n",
      "[Parallel(n_jobs=-1)]: Done  25 tasks      | elapsed:  1.2min\n",
      "[Parallel(n_jobs=-1)]: Done 100 out of 100 | elapsed:  3.8min finished\n",
      "[Parallel(n_jobs=8)]: Using backend ThreadingBackend with 8 concurrent workers.\n",
      "[Parallel(n_jobs=8)]: Done  25 tasks      | elapsed:   10.7s\n",
      "[Parallel(n_jobs=8)]: Done 100 out of 100 | elapsed:   35.1s finished\n",
      "[Parallel(n_jobs=8)]: Using backend ThreadingBackend with 8 concurrent workers.\n",
      "[Parallel(n_jobs=8)]: Done  25 tasks      | elapsed:   10.6s\n",
      "[Parallel(n_jobs=8)]: Done 100 out of 100 | elapsed:   35.0s finished\n"
     ]
    },
    {
     "name": "stdout",
     "output_type": "stream",
     "text": [
      "[CV]  randomforestclassifier__min_samples_split=4, randomforestclassifier__min_impurity_decrease=6.122448979591837e-08, randomforestclassifier__max_features=5, randomforestclassifier__class_weight=balanced, total= 6.6min\n",
      "[CV] randomforestclassifier__min_samples_split=4, randomforestclassifier__min_impurity_decrease=9.591836734693876e-07, randomforestclassifier__max_features=7, randomforestclassifier__class_weight=balanced \n"
     ]
    },
    {
     "name": "stderr",
     "output_type": "stream",
     "text": [
      "[Parallel(n_jobs=-1)]: Using backend LokyBackend with 8 concurrent workers.\n",
      "[Parallel(n_jobs=-1)]: Done  25 tasks      | elapsed:  1.4min\n",
      "[Parallel(n_jobs=-1)]: Done 100 out of 100 | elapsed:  4.8min finished\n",
      "[Parallel(n_jobs=8)]: Using backend ThreadingBackend with 8 concurrent workers.\n",
      "[Parallel(n_jobs=8)]: Done  25 tasks      | elapsed:    6.7s\n",
      "[Parallel(n_jobs=8)]: Done 100 out of 100 | elapsed:   23.9s finished\n",
      "[Parallel(n_jobs=8)]: Using backend ThreadingBackend with 8 concurrent workers.\n",
      "[Parallel(n_jobs=8)]: Done  25 tasks      | elapsed:    7.1s\n",
      "[Parallel(n_jobs=8)]: Done 100 out of 100 | elapsed:   24.0s finished\n"
     ]
    },
    {
     "name": "stdout",
     "output_type": "stream",
     "text": [
      "[CV]  randomforestclassifier__min_samples_split=4, randomforestclassifier__min_impurity_decrease=9.591836734693876e-07, randomforestclassifier__max_features=7, randomforestclassifier__class_weight=balanced, total= 7.1min\n",
      "[CV] randomforestclassifier__min_samples_split=4, randomforestclassifier__min_impurity_decrease=9.591836734693876e-07, randomforestclassifier__max_features=7, randomforestclassifier__class_weight=balanced \n"
     ]
    },
    {
     "name": "stderr",
     "output_type": "stream",
     "text": [
      "[Parallel(n_jobs=-1)]: Using backend LokyBackend with 8 concurrent workers.\n",
      "[Parallel(n_jobs=-1)]: Done  25 tasks      | elapsed:  1.4min\n",
      "[Parallel(n_jobs=-1)]: Done 100 out of 100 | elapsed:  4.7min finished\n",
      "[Parallel(n_jobs=8)]: Using backend ThreadingBackend with 8 concurrent workers.\n",
      "[Parallel(n_jobs=8)]: Done  25 tasks      | elapsed:    6.9s\n",
      "[Parallel(n_jobs=8)]: Done 100 out of 100 | elapsed:   23.8s finished\n",
      "[Parallel(n_jobs=8)]: Using backend ThreadingBackend with 8 concurrent workers.\n",
      "[Parallel(n_jobs=8)]: Done  25 tasks      | elapsed:    7.2s\n",
      "[Parallel(n_jobs=8)]: Done 100 out of 100 | elapsed:   24.0s finished\n"
     ]
    },
    {
     "name": "stdout",
     "output_type": "stream",
     "text": [
      "[CV]  randomforestclassifier__min_samples_split=4, randomforestclassifier__min_impurity_decrease=9.591836734693876e-07, randomforestclassifier__max_features=7, randomforestclassifier__class_weight=balanced, total= 7.1min\n",
      "[CV] randomforestclassifier__min_samples_split=4, randomforestclassifier__min_impurity_decrease=9.591836734693876e-07, randomforestclassifier__max_features=7, randomforestclassifier__class_weight=balanced \n"
     ]
    },
    {
     "name": "stderr",
     "output_type": "stream",
     "text": [
      "[Parallel(n_jobs=-1)]: Using backend LokyBackend with 8 concurrent workers.\n",
      "[Parallel(n_jobs=-1)]: Done  25 tasks      | elapsed:  1.4min\n",
      "[Parallel(n_jobs=-1)]: Done 100 out of 100 | elapsed:  4.7min finished\n",
      "[Parallel(n_jobs=8)]: Using backend ThreadingBackend with 8 concurrent workers.\n",
      "[Parallel(n_jobs=8)]: Done  25 tasks      | elapsed:    6.9s\n",
      "[Parallel(n_jobs=8)]: Done 100 out of 100 | elapsed:   24.2s finished\n",
      "[Parallel(n_jobs=8)]: Using backend ThreadingBackend with 8 concurrent workers.\n",
      "[Parallel(n_jobs=8)]: Done  25 tasks      | elapsed:    7.0s\n",
      "[Parallel(n_jobs=8)]: Done 100 out of 100 | elapsed:   24.1s finished\n"
     ]
    },
    {
     "name": "stdout",
     "output_type": "stream",
     "text": [
      "[CV]  randomforestclassifier__min_samples_split=4, randomforestclassifier__min_impurity_decrease=9.591836734693876e-07, randomforestclassifier__max_features=7, randomforestclassifier__class_weight=balanced, total= 7.0min\n",
      "[CV] randomforestclassifier__min_samples_split=4, randomforestclassifier__min_impurity_decrease=8.163265306122447e-07, randomforestclassifier__max_features=6, randomforestclassifier__class_weight=balanced_subsample \n"
     ]
    },
    {
     "name": "stderr",
     "output_type": "stream",
     "text": [
      "[Parallel(n_jobs=-1)]: Using backend LokyBackend with 8 concurrent workers.\n",
      "[Parallel(n_jobs=-1)]: Done  25 tasks      | elapsed:  1.4min\n",
      "[Parallel(n_jobs=-1)]: Done 100 out of 100 | elapsed:  4.4min finished\n",
      "[Parallel(n_jobs=8)]: Using backend ThreadingBackend with 8 concurrent workers.\n",
      "[Parallel(n_jobs=8)]: Done  25 tasks      | elapsed:    7.3s\n",
      "[Parallel(n_jobs=8)]: Done 100 out of 100 | elapsed:   25.1s finished\n",
      "[Parallel(n_jobs=8)]: Using backend ThreadingBackend with 8 concurrent workers.\n",
      "[Parallel(n_jobs=8)]: Done  25 tasks      | elapsed:    7.3s\n",
      "[Parallel(n_jobs=8)]: Done 100 out of 100 | elapsed:   24.9s finished\n"
     ]
    },
    {
     "name": "stdout",
     "output_type": "stream",
     "text": [
      "[CV]  randomforestclassifier__min_samples_split=4, randomforestclassifier__min_impurity_decrease=8.163265306122447e-07, randomforestclassifier__max_features=6, randomforestclassifier__class_weight=balanced_subsample, total= 6.8min\n",
      "[CV] randomforestclassifier__min_samples_split=4, randomforestclassifier__min_impurity_decrease=8.163265306122447e-07, randomforestclassifier__max_features=6, randomforestclassifier__class_weight=balanced_subsample \n"
     ]
    },
    {
     "name": "stderr",
     "output_type": "stream",
     "text": [
      "[Parallel(n_jobs=-1)]: Using backend LokyBackend with 8 concurrent workers.\n",
      "[Parallel(n_jobs=-1)]: Done  25 tasks      | elapsed:  1.3min\n",
      "[Parallel(n_jobs=-1)]: Done 100 out of 100 | elapsed:  4.5min finished\n",
      "[Parallel(n_jobs=8)]: Using backend ThreadingBackend with 8 concurrent workers.\n",
      "[Parallel(n_jobs=8)]: Done  25 tasks      | elapsed:    7.0s\n",
      "[Parallel(n_jobs=8)]: Done 100 out of 100 | elapsed:   24.8s finished\n",
      "[Parallel(n_jobs=8)]: Using backend ThreadingBackend with 8 concurrent workers.\n",
      "[Parallel(n_jobs=8)]: Done  25 tasks      | elapsed:    7.4s\n",
      "[Parallel(n_jobs=8)]: Done 100 out of 100 | elapsed:   25.2s finished\n"
     ]
    },
    {
     "name": "stdout",
     "output_type": "stream",
     "text": [
      "[CV]  randomforestclassifier__min_samples_split=4, randomforestclassifier__min_impurity_decrease=8.163265306122447e-07, randomforestclassifier__max_features=6, randomforestclassifier__class_weight=balanced_subsample, total= 6.8min\n",
      "[CV] randomforestclassifier__min_samples_split=4, randomforestclassifier__min_impurity_decrease=8.163265306122447e-07, randomforestclassifier__max_features=6, randomforestclassifier__class_weight=balanced_subsample \n"
     ]
    },
    {
     "name": "stderr",
     "output_type": "stream",
     "text": [
      "[Parallel(n_jobs=-1)]: Using backend LokyBackend with 8 concurrent workers.\n",
      "[Parallel(n_jobs=-1)]: Done  25 tasks      | elapsed:  1.4min\n",
      "[Parallel(n_jobs=-1)]: Done 100 out of 100 | elapsed:  4.4min finished\n",
      "[Parallel(n_jobs=8)]: Using backend ThreadingBackend with 8 concurrent workers.\n",
      "[Parallel(n_jobs=8)]: Done  25 tasks      | elapsed:    7.0s\n",
      "[Parallel(n_jobs=8)]: Done 100 out of 100 | elapsed:   24.6s finished\n",
      "[Parallel(n_jobs=8)]: Using backend ThreadingBackend with 8 concurrent workers.\n",
      "[Parallel(n_jobs=8)]: Done  25 tasks      | elapsed:    7.2s\n",
      "[Parallel(n_jobs=8)]: Done 100 out of 100 | elapsed:   24.9s finished\n"
     ]
    },
    {
     "name": "stdout",
     "output_type": "stream",
     "text": [
      "[CV]  randomforestclassifier__min_samples_split=4, randomforestclassifier__min_impurity_decrease=8.163265306122447e-07, randomforestclassifier__max_features=6, randomforestclassifier__class_weight=balanced_subsample, total= 6.8min\n",
      "[CV] randomforestclassifier__min_samples_split=7, randomforestclassifier__min_impurity_decrease=2.040816326530612e-07, randomforestclassifier__max_features=6, randomforestclassifier__class_weight=None \n"
     ]
    },
    {
     "name": "stderr",
     "output_type": "stream",
     "text": [
      "[Parallel(n_jobs=-1)]: Using backend LokyBackend with 8 concurrent workers.\n",
      "[Parallel(n_jobs=-1)]: Done  25 tasks      | elapsed:  1.2min\n",
      "[Parallel(n_jobs=-1)]: Done 100 out of 100 | elapsed:  4.0min finished\n",
      "[Parallel(n_jobs=8)]: Using backend ThreadingBackend with 8 concurrent workers.\n",
      "[Parallel(n_jobs=8)]: Done  25 tasks      | elapsed:    9.0s\n",
      "[Parallel(n_jobs=8)]: Done 100 out of 100 | elapsed:   31.5s finished\n",
      "[Parallel(n_jobs=8)]: Using backend ThreadingBackend with 8 concurrent workers.\n",
      "[Parallel(n_jobs=8)]: Done  25 tasks      | elapsed:    9.2s\n",
      "[Parallel(n_jobs=8)]: Done 100 out of 100 | elapsed:   31.3s finished\n"
     ]
    },
    {
     "name": "stdout",
     "output_type": "stream",
     "text": [
      "[CV]  randomforestclassifier__min_samples_split=7, randomforestclassifier__min_impurity_decrease=2.040816326530612e-07, randomforestclassifier__max_features=6, randomforestclassifier__class_weight=None, total= 6.6min\n",
      "[CV] randomforestclassifier__min_samples_split=7, randomforestclassifier__min_impurity_decrease=2.040816326530612e-07, randomforestclassifier__max_features=6, randomforestclassifier__class_weight=None \n"
     ]
    },
    {
     "name": "stderr",
     "output_type": "stream",
     "text": [
      "[Parallel(n_jobs=-1)]: Using backend LokyBackend with 8 concurrent workers.\n",
      "[Parallel(n_jobs=-1)]: Done  25 tasks      | elapsed:  1.3min\n",
      "[Parallel(n_jobs=-1)]: Done 100 out of 100 | elapsed:  4.1min finished\n",
      "[Parallel(n_jobs=8)]: Using backend ThreadingBackend with 8 concurrent workers.\n",
      "[Parallel(n_jobs=8)]: Done  25 tasks      | elapsed:    9.5s\n",
      "[Parallel(n_jobs=8)]: Done 100 out of 100 | elapsed:   31.7s finished\n",
      "[Parallel(n_jobs=8)]: Using backend ThreadingBackend with 8 concurrent workers.\n",
      "[Parallel(n_jobs=8)]: Done  25 tasks      | elapsed:    9.5s\n",
      "[Parallel(n_jobs=8)]: Done 100 out of 100 | elapsed:   32.1s finished\n"
     ]
    },
    {
     "name": "stdout",
     "output_type": "stream",
     "text": [
      "[CV]  randomforestclassifier__min_samples_split=7, randomforestclassifier__min_impurity_decrease=2.040816326530612e-07, randomforestclassifier__max_features=6, randomforestclassifier__class_weight=None, total= 6.7min\n",
      "[CV] randomforestclassifier__min_samples_split=7, randomforestclassifier__min_impurity_decrease=2.040816326530612e-07, randomforestclassifier__max_features=6, randomforestclassifier__class_weight=None \n"
     ]
    },
    {
     "name": "stderr",
     "output_type": "stream",
     "text": [
      "[Parallel(n_jobs=-1)]: Using backend LokyBackend with 8 concurrent workers.\n",
      "[Parallel(n_jobs=-1)]: Done  25 tasks      | elapsed:  1.2min\n",
      "[Parallel(n_jobs=-1)]: Done 100 out of 100 | elapsed:  4.0min finished\n",
      "[Parallel(n_jobs=8)]: Using backend ThreadingBackend with 8 concurrent workers.\n",
      "[Parallel(n_jobs=8)]: Done  25 tasks      | elapsed:    9.2s\n",
      "[Parallel(n_jobs=8)]: Done 100 out of 100 | elapsed:   31.4s finished\n",
      "[Parallel(n_jobs=8)]: Using backend ThreadingBackend with 8 concurrent workers.\n",
      "[Parallel(n_jobs=8)]: Done  25 tasks      | elapsed:    9.4s\n",
      "[Parallel(n_jobs=8)]: Done 100 out of 100 | elapsed:   31.3s finished\n"
     ]
    },
    {
     "name": "stdout",
     "output_type": "stream",
     "text": [
      "[CV]  randomforestclassifier__min_samples_split=7, randomforestclassifier__min_impurity_decrease=2.040816326530612e-07, randomforestclassifier__max_features=6, randomforestclassifier__class_weight=None, total= 6.6min\n",
      "[CV] randomforestclassifier__min_samples_split=3, randomforestclassifier__min_impurity_decrease=9.387755102040815e-07, randomforestclassifier__max_features=3, randomforestclassifier__class_weight=None \n"
     ]
    },
    {
     "name": "stderr",
     "output_type": "stream",
     "text": [
      "[Parallel(n_jobs=-1)]: Using backend LokyBackend with 8 concurrent workers.\n",
      "[Parallel(n_jobs=-1)]: Done  25 tasks      | elapsed:   37.5s\n",
      "[Parallel(n_jobs=-1)]: Done 100 out of 100 | elapsed:  2.0min finished\n",
      "[Parallel(n_jobs=8)]: Using backend ThreadingBackend with 8 concurrent workers.\n",
      "[Parallel(n_jobs=8)]: Done  25 tasks      | elapsed:    6.9s\n",
      "[Parallel(n_jobs=8)]: Done 100 out of 100 | elapsed:   23.5s finished\n",
      "[Parallel(n_jobs=8)]: Using backend ThreadingBackend with 8 concurrent workers.\n",
      "[Parallel(n_jobs=8)]: Done  25 tasks      | elapsed:    7.2s\n",
      "[Parallel(n_jobs=8)]: Done 100 out of 100 | elapsed:   24.0s finished\n"
     ]
    },
    {
     "name": "stdout",
     "output_type": "stream",
     "text": [
      "[CV]  randomforestclassifier__min_samples_split=3, randomforestclassifier__min_impurity_decrease=9.387755102040815e-07, randomforestclassifier__max_features=3, randomforestclassifier__class_weight=None, total= 4.4min\n",
      "[CV] randomforestclassifier__min_samples_split=3, randomforestclassifier__min_impurity_decrease=9.387755102040815e-07, randomforestclassifier__max_features=3, randomforestclassifier__class_weight=None \n"
     ]
    },
    {
     "name": "stderr",
     "output_type": "stream",
     "text": [
      "[Parallel(n_jobs=-1)]: Using backend LokyBackend with 8 concurrent workers.\n",
      "[Parallel(n_jobs=-1)]: Done  25 tasks      | elapsed:   36.5s\n",
      "[Parallel(n_jobs=-1)]: Done 100 out of 100 | elapsed:  2.0min finished\n",
      "[Parallel(n_jobs=8)]: Using backend ThreadingBackend with 8 concurrent workers.\n",
      "[Parallel(n_jobs=8)]: Done  25 tasks      | elapsed:    6.7s\n",
      "[Parallel(n_jobs=8)]: Done 100 out of 100 | elapsed:   23.3s finished\n",
      "[Parallel(n_jobs=8)]: Using backend ThreadingBackend with 8 concurrent workers.\n",
      "[Parallel(n_jobs=8)]: Done  25 tasks      | elapsed:    6.7s\n",
      "[Parallel(n_jobs=8)]: Done 100 out of 100 | elapsed:   23.4s finished\n"
     ]
    },
    {
     "name": "stdout",
     "output_type": "stream",
     "text": [
      "[CV]  randomforestclassifier__min_samples_split=3, randomforestclassifier__min_impurity_decrease=9.387755102040815e-07, randomforestclassifier__max_features=3, randomforestclassifier__class_weight=None, total= 4.3min\n",
      "[CV] randomforestclassifier__min_samples_split=3, randomforestclassifier__min_impurity_decrease=9.387755102040815e-07, randomforestclassifier__max_features=3, randomforestclassifier__class_weight=None \n"
     ]
    },
    {
     "name": "stderr",
     "output_type": "stream",
     "text": [
      "[Parallel(n_jobs=-1)]: Using backend LokyBackend with 8 concurrent workers.\n",
      "[Parallel(n_jobs=-1)]: Done  25 tasks      | elapsed:   36.6s\n",
      "[Parallel(n_jobs=-1)]: Done 100 out of 100 | elapsed:  2.0min finished\n",
      "[Parallel(n_jobs=8)]: Using backend ThreadingBackend with 8 concurrent workers.\n",
      "[Parallel(n_jobs=8)]: Done  25 tasks      | elapsed:    6.8s\n",
      "[Parallel(n_jobs=8)]: Done 100 out of 100 | elapsed:   23.4s finished\n",
      "[Parallel(n_jobs=8)]: Using backend ThreadingBackend with 8 concurrent workers.\n",
      "[Parallel(n_jobs=8)]: Done  25 tasks      | elapsed:    6.9s\n",
      "[Parallel(n_jobs=8)]: Done 100 out of 100 | elapsed:   23.7s finished\n"
     ]
    },
    {
     "name": "stdout",
     "output_type": "stream",
     "text": [
      "[CV]  randomforestclassifier__min_samples_split=3, randomforestclassifier__min_impurity_decrease=9.387755102040815e-07, randomforestclassifier__max_features=3, randomforestclassifier__class_weight=None, total= 4.3min\n",
      "[CV] randomforestclassifier__min_samples_split=7, randomforestclassifier__min_impurity_decrease=3.6734693877551015e-07, randomforestclassifier__max_features=3, randomforestclassifier__class_weight=balanced_subsample \n"
     ]
    },
    {
     "name": "stderr",
     "output_type": "stream",
     "text": [
      "[Parallel(n_jobs=-1)]: Using backend LokyBackend with 8 concurrent workers.\n",
      "[Parallel(n_jobs=-1)]: Done  25 tasks      | elapsed:   47.0s\n",
      "[Parallel(n_jobs=-1)]: Done 100 out of 100 | elapsed:  2.6min finished\n",
      "[Parallel(n_jobs=8)]: Using backend ThreadingBackend with 8 concurrent workers.\n",
      "[Parallel(n_jobs=8)]: Done  25 tasks      | elapsed:    8.6s\n",
      "[Parallel(n_jobs=8)]: Done 100 out of 100 | elapsed:   29.5s finished\n",
      "[Parallel(n_jobs=8)]: Using backend ThreadingBackend with 8 concurrent workers.\n",
      "[Parallel(n_jobs=8)]: Done  25 tasks      | elapsed:    8.7s\n",
      "[Parallel(n_jobs=8)]: Done 100 out of 100 | elapsed:   29.8s finished\n"
     ]
    },
    {
     "name": "stdout",
     "output_type": "stream",
     "text": [
      "[CV]  randomforestclassifier__min_samples_split=7, randomforestclassifier__min_impurity_decrease=3.6734693877551015e-07, randomforestclassifier__max_features=3, randomforestclassifier__class_weight=balanced_subsample, total= 5.2min\n",
      "[CV] randomforestclassifier__min_samples_split=7, randomforestclassifier__min_impurity_decrease=3.6734693877551015e-07, randomforestclassifier__max_features=3, randomforestclassifier__class_weight=balanced_subsample \n"
     ]
    },
    {
     "name": "stderr",
     "output_type": "stream",
     "text": [
      "[Parallel(n_jobs=-1)]: Using backend LokyBackend with 8 concurrent workers.\n",
      "[Parallel(n_jobs=-1)]: Done  25 tasks      | elapsed:   50.7s\n",
      "[Parallel(n_jobs=-1)]: Done 100 out of 100 | elapsed:  2.7min finished\n",
      "[Parallel(n_jobs=8)]: Using backend ThreadingBackend with 8 concurrent workers.\n",
      "[Parallel(n_jobs=8)]: Done  25 tasks      | elapsed:    8.6s\n",
      "[Parallel(n_jobs=8)]: Done 100 out of 100 | elapsed:   29.6s finished\n",
      "[Parallel(n_jobs=8)]: Using backend ThreadingBackend with 8 concurrent workers.\n",
      "[Parallel(n_jobs=8)]: Done  25 tasks      | elapsed:    8.8s\n",
      "[Parallel(n_jobs=8)]: Done 100 out of 100 | elapsed:   29.6s finished\n"
     ]
    },
    {
     "name": "stdout",
     "output_type": "stream",
     "text": [
      "[CV]  randomforestclassifier__min_samples_split=7, randomforestclassifier__min_impurity_decrease=3.6734693877551015e-07, randomforestclassifier__max_features=3, randomforestclassifier__class_weight=balanced_subsample, total= 5.2min\n",
      "[CV] randomforestclassifier__min_samples_split=7, randomforestclassifier__min_impurity_decrease=3.6734693877551015e-07, randomforestclassifier__max_features=3, randomforestclassifier__class_weight=balanced_subsample \n"
     ]
    },
    {
     "name": "stderr",
     "output_type": "stream",
     "text": [
      "[Parallel(n_jobs=-1)]: Using backend LokyBackend with 8 concurrent workers.\n",
      "[Parallel(n_jobs=-1)]: Done  25 tasks      | elapsed:   48.7s\n",
      "[Parallel(n_jobs=-1)]: Done 100 out of 100 | elapsed:  2.7min finished\n",
      "[Parallel(n_jobs=8)]: Using backend ThreadingBackend with 8 concurrent workers.\n",
      "[Parallel(n_jobs=8)]: Done  25 tasks      | elapsed:    8.4s\n",
      "[Parallel(n_jobs=8)]: Done 100 out of 100 | elapsed:   29.5s finished\n",
      "[Parallel(n_jobs=8)]: Using backend ThreadingBackend with 8 concurrent workers.\n",
      "[Parallel(n_jobs=8)]: Done  25 tasks      | elapsed:    8.9s\n",
      "[Parallel(n_jobs=8)]: Done 100 out of 100 | elapsed:   29.8s finished\n"
     ]
    },
    {
     "name": "stdout",
     "output_type": "stream",
     "text": [
      "[CV]  randomforestclassifier__min_samples_split=7, randomforestclassifier__min_impurity_decrease=3.6734693877551015e-07, randomforestclassifier__max_features=3, randomforestclassifier__class_weight=balanced_subsample, total= 5.2min\n",
      "[CV] randomforestclassifier__min_samples_split=3, randomforestclassifier__min_impurity_decrease=8.163265306122448e-08, randomforestclassifier__max_features=8, randomforestclassifier__class_weight=None \n"
     ]
    },
    {
     "name": "stderr",
     "output_type": "stream",
     "text": [
      "[Parallel(n_jobs=-1)]: Using backend LokyBackend with 8 concurrent workers.\n",
      "[Parallel(n_jobs=-1)]: Done  25 tasks      | elapsed:  1.7min\n",
      "[Parallel(n_jobs=-1)]: Done 100 out of 100 | elapsed:  5.5min finished\n",
      "[Parallel(n_jobs=8)]: Using backend ThreadingBackend with 8 concurrent workers.\n",
      "[Parallel(n_jobs=8)]: Done  25 tasks      | elapsed:   10.4s\n",
      "[Parallel(n_jobs=8)]: Done 100 out of 100 | elapsed:   34.6s finished\n",
      "[Parallel(n_jobs=8)]: Using backend ThreadingBackend with 8 concurrent workers.\n",
      "[Parallel(n_jobs=8)]: Done  25 tasks      | elapsed:   10.4s\n",
      "[Parallel(n_jobs=8)]: Done 100 out of 100 | elapsed:   34.7s finished\n"
     ]
    },
    {
     "name": "stdout",
     "output_type": "stream",
     "text": [
      "[CV]  randomforestclassifier__min_samples_split=3, randomforestclassifier__min_impurity_decrease=8.163265306122448e-08, randomforestclassifier__max_features=8, randomforestclassifier__class_weight=None, total= 8.2min\n",
      "[CV] randomforestclassifier__min_samples_split=3, randomforestclassifier__min_impurity_decrease=8.163265306122448e-08, randomforestclassifier__max_features=8, randomforestclassifier__class_weight=None \n"
     ]
    },
    {
     "name": "stderr",
     "output_type": "stream",
     "text": [
      "[Parallel(n_jobs=-1)]: Using backend LokyBackend with 8 concurrent workers.\n",
      "[Parallel(n_jobs=-1)]: Done  25 tasks      | elapsed:  1.7min\n",
      "[Parallel(n_jobs=-1)]: Done 100 out of 100 | elapsed:  5.6min finished\n",
      "[Parallel(n_jobs=8)]: Using backend ThreadingBackend with 8 concurrent workers.\n",
      "[Parallel(n_jobs=8)]: Done  25 tasks      | elapsed:   10.4s\n",
      "[Parallel(n_jobs=8)]: Done 100 out of 100 | elapsed:   34.8s finished\n",
      "[Parallel(n_jobs=8)]: Using backend ThreadingBackend with 8 concurrent workers.\n",
      "[Parallel(n_jobs=8)]: Done  25 tasks      | elapsed:   10.3s\n",
      "[Parallel(n_jobs=8)]: Done 100 out of 100 | elapsed:   34.7s finished\n"
     ]
    },
    {
     "name": "stdout",
     "output_type": "stream",
     "text": [
      "[CV]  randomforestclassifier__min_samples_split=3, randomforestclassifier__min_impurity_decrease=8.163265306122448e-08, randomforestclassifier__max_features=8, randomforestclassifier__class_weight=None, total= 8.3min\n",
      "[CV] randomforestclassifier__min_samples_split=3, randomforestclassifier__min_impurity_decrease=8.163265306122448e-08, randomforestclassifier__max_features=8, randomforestclassifier__class_weight=None \n"
     ]
    },
    {
     "name": "stderr",
     "output_type": "stream",
     "text": [
      "[Parallel(n_jobs=-1)]: Using backend LokyBackend with 8 concurrent workers.\n",
      "[Parallel(n_jobs=-1)]: Done  25 tasks      | elapsed:  1.7min\n",
      "[Parallel(n_jobs=-1)]: Done 100 out of 100 | elapsed:  5.4min finished\n",
      "[Parallel(n_jobs=8)]: Using backend ThreadingBackend with 8 concurrent workers.\n",
      "[Parallel(n_jobs=8)]: Done  25 tasks      | elapsed:   10.5s\n",
      "[Parallel(n_jobs=8)]: Done 100 out of 100 | elapsed:   34.9s finished\n",
      "[Parallel(n_jobs=8)]: Using backend ThreadingBackend with 8 concurrent workers.\n",
      "[Parallel(n_jobs=8)]: Done  25 tasks      | elapsed:   10.5s\n",
      "[Parallel(n_jobs=8)]: Done 100 out of 100 | elapsed:   34.7s finished\n"
     ]
    },
    {
     "name": "stdout",
     "output_type": "stream",
     "text": [
      "[CV]  randomforestclassifier__min_samples_split=3, randomforestclassifier__min_impurity_decrease=8.163265306122448e-08, randomforestclassifier__max_features=8, randomforestclassifier__class_weight=None, total= 8.1min\n",
      "[CV] randomforestclassifier__min_samples_split=9, randomforestclassifier__min_impurity_decrease=2.6530612244897955e-07, randomforestclassifier__max_features=7, randomforestclassifier__class_weight=balanced \n"
     ]
    },
    {
     "name": "stderr",
     "output_type": "stream",
     "text": [
      "[Parallel(n_jobs=-1)]: Using backend LokyBackend with 8 concurrent workers.\n",
      "[Parallel(n_jobs=-1)]: Done  25 tasks      | elapsed:  1.5min\n",
      "[Parallel(n_jobs=-1)]: Done 100 out of 100 | elapsed:  5.0min finished\n",
      "[Parallel(n_jobs=8)]: Using backend ThreadingBackend with 8 concurrent workers.\n",
      "[Parallel(n_jobs=8)]: Done  25 tasks      | elapsed:    9.2s\n",
      "[Parallel(n_jobs=8)]: Done 100 out of 100 | elapsed:   30.7s finished\n",
      "[Parallel(n_jobs=8)]: Using backend ThreadingBackend with 8 concurrent workers.\n",
      "[Parallel(n_jobs=8)]: Done  25 tasks      | elapsed:    9.3s\n",
      "[Parallel(n_jobs=8)]: Done 100 out of 100 | elapsed:   30.9s finished\n"
     ]
    },
    {
     "name": "stdout",
     "output_type": "stream",
     "text": [
      "[CV]  randomforestclassifier__min_samples_split=9, randomforestclassifier__min_impurity_decrease=2.6530612244897955e-07, randomforestclassifier__max_features=7, randomforestclassifier__class_weight=balanced, total= 7.6min\n",
      "[CV] randomforestclassifier__min_samples_split=9, randomforestclassifier__min_impurity_decrease=2.6530612244897955e-07, randomforestclassifier__max_features=7, randomforestclassifier__class_weight=balanced \n"
     ]
    },
    {
     "name": "stderr",
     "output_type": "stream",
     "text": [
      "[Parallel(n_jobs=-1)]: Using backend LokyBackend with 8 concurrent workers.\n",
      "[Parallel(n_jobs=-1)]: Done  25 tasks      | elapsed:  1.5min\n",
      "[Parallel(n_jobs=-1)]: Done 100 out of 100 | elapsed:  4.9min finished\n",
      "[Parallel(n_jobs=8)]: Using backend ThreadingBackend with 8 concurrent workers.\n",
      "[Parallel(n_jobs=8)]: Done  25 tasks      | elapsed:    9.1s\n",
      "[Parallel(n_jobs=8)]: Done 100 out of 100 | elapsed:   30.5s finished\n",
      "[Parallel(n_jobs=8)]: Using backend ThreadingBackend with 8 concurrent workers.\n",
      "[Parallel(n_jobs=8)]: Done  25 tasks      | elapsed:    9.2s\n",
      "[Parallel(n_jobs=8)]: Done 100 out of 100 | elapsed:   30.6s finished\n"
     ]
    },
    {
     "name": "stdout",
     "output_type": "stream",
     "text": [
      "[CV]  randomforestclassifier__min_samples_split=9, randomforestclassifier__min_impurity_decrease=2.6530612244897955e-07, randomforestclassifier__max_features=7, randomforestclassifier__class_weight=balanced, total= 7.5min\n",
      "[CV] randomforestclassifier__min_samples_split=9, randomforestclassifier__min_impurity_decrease=2.6530612244897955e-07, randomforestclassifier__max_features=7, randomforestclassifier__class_weight=balanced \n"
     ]
    },
    {
     "name": "stderr",
     "output_type": "stream",
     "text": [
      "[Parallel(n_jobs=-1)]: Using backend LokyBackend with 8 concurrent workers.\n",
      "[Parallel(n_jobs=-1)]: Done  25 tasks      | elapsed:  1.4min\n",
      "[Parallel(n_jobs=-1)]: Done 100 out of 100 | elapsed:  4.8min finished\n",
      "[Parallel(n_jobs=8)]: Using backend ThreadingBackend with 8 concurrent workers.\n",
      "[Parallel(n_jobs=8)]: Done  25 tasks      | elapsed:    8.9s\n",
      "[Parallel(n_jobs=8)]: Done 100 out of 100 | elapsed:   30.6s finished\n",
      "[Parallel(n_jobs=8)]: Using backend ThreadingBackend with 8 concurrent workers.\n",
      "[Parallel(n_jobs=8)]: Done  25 tasks      | elapsed:    9.1s\n",
      "[Parallel(n_jobs=8)]: Done 100 out of 100 | elapsed:   30.6s finished\n"
     ]
    },
    {
     "name": "stdout",
     "output_type": "stream",
     "text": [
      "[CV]  randomforestclassifier__min_samples_split=9, randomforestclassifier__min_impurity_decrease=2.6530612244897955e-07, randomforestclassifier__max_features=7, randomforestclassifier__class_weight=balanced, total= 7.4min\n",
      "[CV] randomforestclassifier__min_samples_split=5, randomforestclassifier__min_impurity_decrease=6.326530612244898e-07, randomforestclassifier__max_features=6, randomforestclassifier__class_weight=balanced \n"
     ]
    },
    {
     "name": "stderr",
     "output_type": "stream",
     "text": [
      "[Parallel(n_jobs=-1)]: Using backend LokyBackend with 8 concurrent workers.\n",
      "[Parallel(n_jobs=-1)]: Done  25 tasks      | elapsed:  1.3min\n",
      "[Parallel(n_jobs=-1)]: Done 100 out of 100 | elapsed:  4.2min finished\n",
      "[Parallel(n_jobs=8)]: Using backend ThreadingBackend with 8 concurrent workers.\n",
      "[Parallel(n_jobs=8)]: Done  25 tasks      | elapsed:    7.7s\n",
      "[Parallel(n_jobs=8)]: Done 100 out of 100 | elapsed:   26.5s finished\n",
      "[Parallel(n_jobs=8)]: Using backend ThreadingBackend with 8 concurrent workers.\n",
      "[Parallel(n_jobs=8)]: Done  25 tasks      | elapsed:    8.1s\n",
      "[Parallel(n_jobs=8)]: Done 100 out of 100 | elapsed:   26.8s finished\n"
     ]
    },
    {
     "name": "stdout",
     "output_type": "stream",
     "text": [
      "[CV]  randomforestclassifier__min_samples_split=5, randomforestclassifier__min_impurity_decrease=6.326530612244898e-07, randomforestclassifier__max_features=6, randomforestclassifier__class_weight=balanced, total= 6.6min\n",
      "[CV] randomforestclassifier__min_samples_split=5, randomforestclassifier__min_impurity_decrease=6.326530612244898e-07, randomforestclassifier__max_features=6, randomforestclassifier__class_weight=balanced \n"
     ]
    },
    {
     "name": "stderr",
     "output_type": "stream",
     "text": [
      "[Parallel(n_jobs=-1)]: Using backend LokyBackend with 8 concurrent workers.\n",
      "[Parallel(n_jobs=-1)]: Done  25 tasks      | elapsed:  1.2min\n",
      "[Parallel(n_jobs=-1)]: Done 100 out of 100 | elapsed:  4.2min finished\n",
      "[Parallel(n_jobs=8)]: Using backend ThreadingBackend with 8 concurrent workers.\n",
      "[Parallel(n_jobs=8)]: Done  25 tasks      | elapsed:    7.8s\n",
      "[Parallel(n_jobs=8)]: Done 100 out of 100 | elapsed:   26.6s finished\n",
      "[Parallel(n_jobs=8)]: Using backend ThreadingBackend with 8 concurrent workers.\n",
      "[Parallel(n_jobs=8)]: Done  25 tasks      | elapsed:    7.9s\n",
      "[Parallel(n_jobs=8)]: Done 100 out of 100 | elapsed:   26.7s finished\n"
     ]
    },
    {
     "name": "stdout",
     "output_type": "stream",
     "text": [
      "[CV]  randomforestclassifier__min_samples_split=5, randomforestclassifier__min_impurity_decrease=6.326530612244898e-07, randomforestclassifier__max_features=6, randomforestclassifier__class_weight=balanced, total= 6.6min\n",
      "[CV] randomforestclassifier__min_samples_split=5, randomforestclassifier__min_impurity_decrease=6.326530612244898e-07, randomforestclassifier__max_features=6, randomforestclassifier__class_weight=balanced \n"
     ]
    },
    {
     "name": "stderr",
     "output_type": "stream",
     "text": [
      "[Parallel(n_jobs=-1)]: Using backend LokyBackend with 8 concurrent workers.\n",
      "[Parallel(n_jobs=-1)]: Done  25 tasks      | elapsed:  1.3min\n",
      "[Parallel(n_jobs=-1)]: Done 100 out of 100 | elapsed:  4.1min finished\n",
      "[Parallel(n_jobs=8)]: Using backend ThreadingBackend with 8 concurrent workers.\n",
      "[Parallel(n_jobs=8)]: Done  25 tasks      | elapsed:    7.8s\n",
      "[Parallel(n_jobs=8)]: Done 100 out of 100 | elapsed:   26.5s finished\n",
      "[Parallel(n_jobs=8)]: Using backend ThreadingBackend with 8 concurrent workers.\n",
      "[Parallel(n_jobs=8)]: Done  25 tasks      | elapsed:    7.9s\n",
      "[Parallel(n_jobs=8)]: Done 100 out of 100 | elapsed:   26.7s finished\n"
     ]
    },
    {
     "name": "stdout",
     "output_type": "stream",
     "text": [
      "[CV]  randomforestclassifier__min_samples_split=5, randomforestclassifier__min_impurity_decrease=6.326530612244898e-07, randomforestclassifier__max_features=6, randomforestclassifier__class_weight=balanced, total= 6.6min\n",
      "[CV] randomforestclassifier__min_samples_split=6, randomforestclassifier__min_impurity_decrease=4.081632653061224e-08, randomforestclassifier__max_features=2, randomforestclassifier__class_weight=balanced_subsample \n"
     ]
    },
    {
     "name": "stderr",
     "output_type": "stream",
     "text": [
      "[Parallel(n_jobs=-1)]: Using backend LokyBackend with 8 concurrent workers.\n",
      "[Parallel(n_jobs=-1)]: Done  25 tasks      | elapsed:   39.9s\n",
      "[Parallel(n_jobs=-1)]: Done 100 out of 100 | elapsed:  2.1min finished\n",
      "[Parallel(n_jobs=8)]: Using backend ThreadingBackend with 8 concurrent workers.\n",
      "[Parallel(n_jobs=8)]: Done  25 tasks      | elapsed:   11.1s\n",
      "[Parallel(n_jobs=8)]: Done 100 out of 100 | elapsed:   36.6s finished\n",
      "[Parallel(n_jobs=8)]: Using backend ThreadingBackend with 8 concurrent workers.\n",
      "[Parallel(n_jobs=8)]: Done  25 tasks      | elapsed:   11.1s\n",
      "[Parallel(n_jobs=8)]: Done 100 out of 100 | elapsed:   36.8s finished\n"
     ]
    },
    {
     "name": "stdout",
     "output_type": "stream",
     "text": [
      "[CV]  randomforestclassifier__min_samples_split=6, randomforestclassifier__min_impurity_decrease=4.081632653061224e-08, randomforestclassifier__max_features=2, randomforestclassifier__class_weight=balanced_subsample, total= 4.9min\n",
      "[CV] randomforestclassifier__min_samples_split=6, randomforestclassifier__min_impurity_decrease=4.081632653061224e-08, randomforestclassifier__max_features=2, randomforestclassifier__class_weight=balanced_subsample \n"
     ]
    },
    {
     "name": "stderr",
     "output_type": "stream",
     "text": [
      "[Parallel(n_jobs=-1)]: Using backend LokyBackend with 8 concurrent workers.\n",
      "[Parallel(n_jobs=-1)]: Done  25 tasks      | elapsed:   39.6s\n",
      "[Parallel(n_jobs=-1)]: Done 100 out of 100 | elapsed:  2.1min finished\n",
      "[Parallel(n_jobs=8)]: Using backend ThreadingBackend with 8 concurrent workers.\n",
      "[Parallel(n_jobs=8)]: Done  25 tasks      | elapsed:   11.1s\n",
      "[Parallel(n_jobs=8)]: Done 100 out of 100 | elapsed:   36.9s finished\n",
      "[Parallel(n_jobs=8)]: Using backend ThreadingBackend with 8 concurrent workers.\n",
      "[Parallel(n_jobs=8)]: Done  25 tasks      | elapsed:   11.2s\n",
      "[Parallel(n_jobs=8)]: Done 100 out of 100 | elapsed:   37.0s finished\n"
     ]
    },
    {
     "name": "stdout",
     "output_type": "stream",
     "text": [
      "[CV]  randomforestclassifier__min_samples_split=6, randomforestclassifier__min_impurity_decrease=4.081632653061224e-08, randomforestclassifier__max_features=2, randomforestclassifier__class_weight=balanced_subsample, total= 4.9min\n",
      "[CV] randomforestclassifier__min_samples_split=6, randomforestclassifier__min_impurity_decrease=4.081632653061224e-08, randomforestclassifier__max_features=2, randomforestclassifier__class_weight=balanced_subsample \n"
     ]
    },
    {
     "name": "stderr",
     "output_type": "stream",
     "text": [
      "[Parallel(n_jobs=-1)]: Using backend LokyBackend with 8 concurrent workers.\n",
      "[Parallel(n_jobs=-1)]: Done  25 tasks      | elapsed:   38.3s\n",
      "[Parallel(n_jobs=-1)]: Done 100 out of 100 | elapsed:  2.1min finished\n",
      "[Parallel(n_jobs=8)]: Using backend ThreadingBackend with 8 concurrent workers.\n",
      "[Parallel(n_jobs=8)]: Done  25 tasks      | elapsed:   11.1s\n",
      "[Parallel(n_jobs=8)]: Done 100 out of 100 | elapsed:   36.6s finished\n",
      "[Parallel(n_jobs=8)]: Using backend ThreadingBackend with 8 concurrent workers.\n",
      "[Parallel(n_jobs=8)]: Done  25 tasks      | elapsed:   11.1s\n",
      "[Parallel(n_jobs=8)]: Done 100 out of 100 | elapsed:   36.5s finished\n"
     ]
    },
    {
     "name": "stdout",
     "output_type": "stream",
     "text": [
      "[CV]  randomforestclassifier__min_samples_split=6, randomforestclassifier__min_impurity_decrease=4.081632653061224e-08, randomforestclassifier__max_features=2, randomforestclassifier__class_weight=balanced_subsample, total= 4.9min\n",
      "[CV] randomforestclassifier__min_samples_split=2, randomforestclassifier__min_impurity_decrease=9.795918367346939e-07, randomforestclassifier__max_features=4, randomforestclassifier__class_weight=None \n"
     ]
    },
    {
     "name": "stderr",
     "output_type": "stream",
     "text": [
      "[Parallel(n_jobs=-1)]: Using backend LokyBackend with 8 concurrent workers.\n",
      "[Parallel(n_jobs=-1)]: Done  25 tasks      | elapsed:   47.1s\n",
      "[Parallel(n_jobs=-1)]: Done 100 out of 100 | elapsed:  2.6min finished\n",
      "[Parallel(n_jobs=8)]: Using backend ThreadingBackend with 8 concurrent workers.\n",
      "[Parallel(n_jobs=8)]: Done  25 tasks      | elapsed:    6.4s\n",
      "[Parallel(n_jobs=8)]: Done 100 out of 100 | elapsed:   23.2s finished\n",
      "[Parallel(n_jobs=8)]: Using backend ThreadingBackend with 8 concurrent workers.\n",
      "[Parallel(n_jobs=8)]: Done  25 tasks      | elapsed:    6.9s\n",
      "[Parallel(n_jobs=8)]: Done 100 out of 100 | elapsed:   23.5s finished\n"
     ]
    },
    {
     "name": "stdout",
     "output_type": "stream",
     "text": [
      "[CV]  randomforestclassifier__min_samples_split=2, randomforestclassifier__min_impurity_decrease=9.795918367346939e-07, randomforestclassifier__max_features=4, randomforestclassifier__class_weight=None, total= 4.9min\n",
      "[CV] randomforestclassifier__min_samples_split=2, randomforestclassifier__min_impurity_decrease=9.795918367346939e-07, randomforestclassifier__max_features=4, randomforestclassifier__class_weight=None \n"
     ]
    },
    {
     "name": "stderr",
     "output_type": "stream",
     "text": [
      "[Parallel(n_jobs=-1)]: Using backend LokyBackend with 8 concurrent workers.\n",
      "[Parallel(n_jobs=-1)]: Done  25 tasks      | elapsed:   47.2s\n",
      "[Parallel(n_jobs=-1)]: Done 100 out of 100 | elapsed:  2.6min finished\n",
      "[Parallel(n_jobs=8)]: Using backend ThreadingBackend with 8 concurrent workers.\n",
      "[Parallel(n_jobs=8)]: Done  25 tasks      | elapsed:    6.7s\n",
      "[Parallel(n_jobs=8)]: Done 100 out of 100 | elapsed:   23.5s finished\n",
      "[Parallel(n_jobs=8)]: Using backend ThreadingBackend with 8 concurrent workers.\n",
      "[Parallel(n_jobs=8)]: Done  25 tasks      | elapsed:    6.8s\n",
      "[Parallel(n_jobs=8)]: Done 100 out of 100 | elapsed:   23.3s finished\n"
     ]
    },
    {
     "name": "stdout",
     "output_type": "stream",
     "text": [
      "[CV]  randomforestclassifier__min_samples_split=2, randomforestclassifier__min_impurity_decrease=9.795918367346939e-07, randomforestclassifier__max_features=4, randomforestclassifier__class_weight=None, total= 4.9min\n",
      "[CV] randomforestclassifier__min_samples_split=2, randomforestclassifier__min_impurity_decrease=9.795918367346939e-07, randomforestclassifier__max_features=4, randomforestclassifier__class_weight=None \n"
     ]
    },
    {
     "name": "stderr",
     "output_type": "stream",
     "text": [
      "[Parallel(n_jobs=-1)]: Using backend LokyBackend with 8 concurrent workers.\n",
      "[Parallel(n_jobs=-1)]: Done  25 tasks      | elapsed:   47.6s\n",
      "[Parallel(n_jobs=-1)]: Done 100 out of 100 | elapsed:  2.6min finished\n",
      "[Parallel(n_jobs=8)]: Using backend ThreadingBackend with 8 concurrent workers.\n",
      "[Parallel(n_jobs=8)]: Done  25 tasks      | elapsed:    6.6s\n",
      "[Parallel(n_jobs=8)]: Done 100 out of 100 | elapsed:   23.3s finished\n",
      "[Parallel(n_jobs=8)]: Using backend ThreadingBackend with 8 concurrent workers.\n",
      "[Parallel(n_jobs=8)]: Done  25 tasks      | elapsed:    6.8s\n",
      "[Parallel(n_jobs=8)]: Done 100 out of 100 | elapsed:   23.9s finished\n"
     ]
    },
    {
     "name": "stdout",
     "output_type": "stream",
     "text": [
      "[CV]  randomforestclassifier__min_samples_split=2, randomforestclassifier__min_impurity_decrease=9.795918367346939e-07, randomforestclassifier__max_features=4, randomforestclassifier__class_weight=None, total= 4.9min\n",
      "[CV] randomforestclassifier__min_samples_split=5, randomforestclassifier__min_impurity_decrease=3.877551020408163e-07, randomforestclassifier__max_features=5, randomforestclassifier__class_weight=balanced \n"
     ]
    },
    {
     "name": "stderr",
     "output_type": "stream",
     "text": [
      "[Parallel(n_jobs=-1)]: Using backend LokyBackend with 8 concurrent workers.\n",
      "[Parallel(n_jobs=-1)]: Done  25 tasks      | elapsed:  1.1min\n",
      "[Parallel(n_jobs=-1)]: Done 100 out of 100 | elapsed:  3.6min finished\n",
      "[Parallel(n_jobs=8)]: Using backend ThreadingBackend with 8 concurrent workers.\n",
      "[Parallel(n_jobs=8)]: Done  25 tasks      | elapsed:    8.9s\n",
      "[Parallel(n_jobs=8)]: Done 100 out of 100 | elapsed:   29.6s finished\n",
      "[Parallel(n_jobs=8)]: Using backend ThreadingBackend with 8 concurrent workers.\n",
      "[Parallel(n_jobs=8)]: Done  25 tasks      | elapsed:    8.8s\n",
      "[Parallel(n_jobs=8)]: Done 100 out of 100 | elapsed:   29.5s finished\n"
     ]
    },
    {
     "name": "stdout",
     "output_type": "stream",
     "text": [
      "[CV]  randomforestclassifier__min_samples_split=5, randomforestclassifier__min_impurity_decrease=3.877551020408163e-07, randomforestclassifier__max_features=5, randomforestclassifier__class_weight=balanced, total= 6.1min\n",
      "[CV] randomforestclassifier__min_samples_split=5, randomforestclassifier__min_impurity_decrease=3.877551020408163e-07, randomforestclassifier__max_features=5, randomforestclassifier__class_weight=balanced \n"
     ]
    },
    {
     "name": "stderr",
     "output_type": "stream",
     "text": [
      "[Parallel(n_jobs=-1)]: Using backend LokyBackend with 8 concurrent workers.\n",
      "[Parallel(n_jobs=-1)]: Done  25 tasks      | elapsed:  1.1min\n",
      "[Parallel(n_jobs=-1)]: Done 100 out of 100 | elapsed:  3.6min finished\n",
      "[Parallel(n_jobs=8)]: Using backend ThreadingBackend with 8 concurrent workers.\n",
      "[Parallel(n_jobs=8)]: Done  25 tasks      | elapsed:    8.8s\n",
      "[Parallel(n_jobs=8)]: Done 100 out of 100 | elapsed:   29.6s finished\n",
      "[Parallel(n_jobs=8)]: Using backend ThreadingBackend with 8 concurrent workers.\n",
      "[Parallel(n_jobs=8)]: Done  25 tasks      | elapsed:    9.1s\n",
      "[Parallel(n_jobs=8)]: Done 100 out of 100 | elapsed:   30.1s finished\n"
     ]
    },
    {
     "name": "stdout",
     "output_type": "stream",
     "text": [
      "[CV]  randomforestclassifier__min_samples_split=5, randomforestclassifier__min_impurity_decrease=3.877551020408163e-07, randomforestclassifier__max_features=5, randomforestclassifier__class_weight=balanced, total= 6.2min\n",
      "[CV] randomforestclassifier__min_samples_split=5, randomforestclassifier__min_impurity_decrease=3.877551020408163e-07, randomforestclassifier__max_features=5, randomforestclassifier__class_weight=balanced \n"
     ]
    },
    {
     "name": "stderr",
     "output_type": "stream",
     "text": [
      "[Parallel(n_jobs=-1)]: Using backend LokyBackend with 8 concurrent workers.\n",
      "[Parallel(n_jobs=-1)]: Done  25 tasks      | elapsed:  1.0min\n",
      "[Parallel(n_jobs=-1)]: Done 100 out of 100 | elapsed:  3.5min finished\n",
      "[Parallel(n_jobs=8)]: Using backend ThreadingBackend with 8 concurrent workers.\n",
      "[Parallel(n_jobs=8)]: Done  25 tasks      | elapsed:    8.7s\n",
      "[Parallel(n_jobs=8)]: Done 100 out of 100 | elapsed:   29.3s finished\n",
      "[Parallel(n_jobs=8)]: Using backend ThreadingBackend with 8 concurrent workers.\n",
      "[Parallel(n_jobs=8)]: Done  25 tasks      | elapsed:    8.8s\n",
      "[Parallel(n_jobs=8)]: Done 100 out of 100 | elapsed:   29.8s finished\n"
     ]
    },
    {
     "name": "stdout",
     "output_type": "stream",
     "text": [
      "[CV]  randomforestclassifier__min_samples_split=5, randomforestclassifier__min_impurity_decrease=3.877551020408163e-07, randomforestclassifier__max_features=5, randomforestclassifier__class_weight=balanced, total= 6.0min\n",
      "[CV] randomforestclassifier__min_samples_split=3, randomforestclassifier__min_impurity_decrease=4.6938775510204074e-07, randomforestclassifier__max_features=2, randomforestclassifier__class_weight=balanced \n"
     ]
    },
    {
     "name": "stderr",
     "output_type": "stream",
     "text": [
      "[Parallel(n_jobs=-1)]: Using backend LokyBackend with 8 concurrent workers.\n",
      "[Parallel(n_jobs=-1)]: Done  25 tasks      | elapsed:   30.6s\n",
      "[Parallel(n_jobs=-1)]: Done 100 out of 100 | elapsed:  1.7min finished\n",
      "[Parallel(n_jobs=8)]: Using backend ThreadingBackend with 8 concurrent workers.\n",
      "[Parallel(n_jobs=8)]: Done  25 tasks      | elapsed:    8.0s\n",
      "[Parallel(n_jobs=8)]: Done 100 out of 100 | elapsed:   28.0s finished\n",
      "[Parallel(n_jobs=8)]: Using backend ThreadingBackend with 8 concurrent workers.\n",
      "[Parallel(n_jobs=8)]: Done  25 tasks      | elapsed:    8.6s\n",
      "[Parallel(n_jobs=8)]: Done 100 out of 100 | elapsed:   28.4s finished\n"
     ]
    },
    {
     "name": "stdout",
     "output_type": "stream",
     "text": [
      "[CV]  randomforestclassifier__min_samples_split=3, randomforestclassifier__min_impurity_decrease=4.6938775510204074e-07, randomforestclassifier__max_features=2, randomforestclassifier__class_weight=balanced, total= 4.2min\n",
      "[CV] randomforestclassifier__min_samples_split=3, randomforestclassifier__min_impurity_decrease=4.6938775510204074e-07, randomforestclassifier__max_features=2, randomforestclassifier__class_weight=balanced \n"
     ]
    },
    {
     "name": "stderr",
     "output_type": "stream",
     "text": [
      "[Parallel(n_jobs=-1)]: Using backend LokyBackend with 8 concurrent workers.\n",
      "[Parallel(n_jobs=-1)]: Done  25 tasks      | elapsed:   30.9s\n",
      "[Parallel(n_jobs=-1)]: Done 100 out of 100 | elapsed:  1.7min finished\n",
      "[Parallel(n_jobs=8)]: Using backend ThreadingBackend with 8 concurrent workers.\n",
      "[Parallel(n_jobs=8)]: Done  25 tasks      | elapsed:    8.1s\n",
      "[Parallel(n_jobs=8)]: Done 100 out of 100 | elapsed:   28.0s finished\n",
      "[Parallel(n_jobs=8)]: Using backend ThreadingBackend with 8 concurrent workers.\n",
      "[Parallel(n_jobs=8)]: Done  25 tasks      | elapsed:    8.3s\n",
      "[Parallel(n_jobs=8)]: Done 100 out of 100 | elapsed:   28.0s finished\n"
     ]
    },
    {
     "name": "stdout",
     "output_type": "stream",
     "text": [
      "[CV]  randomforestclassifier__min_samples_split=3, randomforestclassifier__min_impurity_decrease=4.6938775510204074e-07, randomforestclassifier__max_features=2, randomforestclassifier__class_weight=balanced, total= 4.2min\n",
      "[CV] randomforestclassifier__min_samples_split=3, randomforestclassifier__min_impurity_decrease=4.6938775510204074e-07, randomforestclassifier__max_features=2, randomforestclassifier__class_weight=balanced \n"
     ]
    },
    {
     "name": "stderr",
     "output_type": "stream",
     "text": [
      "[Parallel(n_jobs=-1)]: Using backend LokyBackend with 8 concurrent workers.\n",
      "[Parallel(n_jobs=-1)]: Done  25 tasks      | elapsed:   30.2s\n",
      "[Parallel(n_jobs=-1)]: Done 100 out of 100 | elapsed:  1.7min finished\n",
      "[Parallel(n_jobs=8)]: Using backend ThreadingBackend with 8 concurrent workers.\n",
      "[Parallel(n_jobs=8)]: Done  25 tasks      | elapsed:    8.3s\n",
      "[Parallel(n_jobs=8)]: Done 100 out of 100 | elapsed:   28.0s finished\n",
      "[Parallel(n_jobs=8)]: Using backend ThreadingBackend with 8 concurrent workers.\n",
      "[Parallel(n_jobs=8)]: Done  25 tasks      | elapsed:    8.4s\n",
      "[Parallel(n_jobs=8)]: Done 100 out of 100 | elapsed:   28.1s finished\n"
     ]
    },
    {
     "name": "stdout",
     "output_type": "stream",
     "text": [
      "[CV]  randomforestclassifier__min_samples_split=3, randomforestclassifier__min_impurity_decrease=4.6938775510204074e-07, randomforestclassifier__max_features=2, randomforestclassifier__class_weight=balanced, total= 4.2min\n"
     ]
    },
    {
     "name": "stderr",
     "output_type": "stream",
     "text": [
      "[Parallel(n_jobs=1)]: Done  60 out of  60 | elapsed: 377.1min finished\n",
      "[Parallel(n_jobs=-1)]: Using backend ThreadingBackend with 8 concurrent workers.\n"
     ]
    },
    {
     "name": "stdout",
     "output_type": "stream",
     "text": [
      "building tree 1 of 100\n",
      "building tree 2 of 100\n",
      "building tree 3 of 100\n",
      "building tree 4 of 100\n",
      "building tree 5 of 100\n",
      "building tree 6 of 100\n",
      "building tree 7 of 100\n",
      "building tree 8 of 100\n",
      "building tree 9 of 100\n",
      "building tree 10 of 100\n",
      "building tree 11 of 100\n",
      "building tree 12 of 100\n",
      "building tree 13 of 100\n",
      "building tree 14 of 100\n",
      "building tree 15 of 100\n",
      "building tree 16 of 100\n",
      "building tree 17 of 100\n",
      "building tree 18 of 100\n",
      "building tree 19 of 100\n",
      "building tree 20 of 100\n",
      "building tree 21 of 100\n",
      "building tree 22 of 100\n",
      "building tree 23 of 100\n",
      "building tree 24 of 100\n",
      "building tree 25 of 100\n",
      "building tree 26 of 100\n",
      "building tree 27 of 100\n",
      "building tree 28 of 100\n",
      "building tree 29 of 100\n",
      "building tree 30 of 100\n",
      "building tree 31 of 100\n",
      "building tree 32 of 100\n",
      "building tree 33 of 100\n"
     ]
    },
    {
     "name": "stderr",
     "output_type": "stream",
     "text": [
      "[Parallel(n_jobs=-1)]: Done  25 tasks      | elapsed:   54.0s\n"
     ]
    },
    {
     "name": "stdout",
     "output_type": "stream",
     "text": [
      "building tree 34 of 100\n",
      "building tree 35 of 100\n",
      "building tree 36 of 100\n",
      "building tree 37 of 100\n",
      "building tree 38 of 100\n",
      "building tree 39 of 100\n",
      "building tree 40 of 100\n",
      "building tree 41 of 100\n",
      "building tree 42 of 100\n",
      "building tree 43 of 100\n",
      "building tree 44 of 100\n",
      "building tree 45 of 100\n",
      "building tree 46 of 100\n",
      "building tree 47 of 100\n",
      "building tree 48 of 100\n",
      "building tree 49 of 100\n",
      "building tree 50 of 100\n",
      "building tree 51 of 100\n",
      "building tree 52 of 100\n",
      "building tree 53 of 100\n",
      "building tree 54 of 100\n",
      "building tree 55 of 100\n",
      "building tree 56 of 100\n",
      "building tree 57 of 100\n",
      "building tree 58 of 100\n",
      "building tree 59 of 100\n",
      "building tree 60 of 100\n",
      "building tree 61 of 100\n",
      "building tree 62 of 100\n",
      "building tree 63 of 100\n",
      "building tree 64 of 100\n",
      "building tree 65 of 100\n",
      "building tree 66 of 100\n",
      "building tree 67 of 100\n",
      "building tree 68 of 100\n",
      "building tree 69 of 100\n",
      "building tree 70 of 100\n",
      "building tree 71 of 100\n",
      "building tree 72 of 100\n",
      "building tree 73 of 100\n",
      "building tree 74 of 100\n",
      "building tree 75 of 100\n",
      "building tree 76 of 100\n",
      "building tree 77 of 100\n",
      "building tree 78 of 100\n",
      "building tree 79 of 100\n",
      "building tree 80 of 100\n",
      "building tree 81 of 100\n",
      "building tree 82 of 100\n",
      "building tree 83 of 100\n",
      "building tree 84 of 100\n",
      "building tree 85 of 100\n",
      "building tree 86 of 100\n",
      "building tree 87 of 100\n",
      "building tree 88 of 100\n",
      "building tree 89 of 100\n",
      "building tree 90 of 100\n",
      "building tree 91 of 100\n",
      "building tree 92 of 100\n",
      "building tree 93 of 100\n",
      "building tree 94 of 100\n",
      "building tree 95 of 100\n",
      "building tree 96 of 100\n",
      "building tree 97 of 100\n",
      "building tree 98 of 100\n",
      "building tree 99 of 100\n",
      "building tree 100 of 100\n"
     ]
    },
    {
     "name": "stderr",
     "output_type": "stream",
     "text": [
      "[Parallel(n_jobs=-1)]: Done 100 out of 100 | elapsed:  3.0min finished\n"
     ]
    },
    {
     "ename": "NameError",
     "evalue": "name 'pickle' is not defined",
     "output_type": "error",
     "traceback": [
      "\u001b[0;31m---------------------------------------------------------------------------\u001b[0m",
      "\u001b[0;31mNameError\u001b[0m                                 Traceback (most recent call last)",
      "\u001b[0;32m<ipython-input-10-ef22ede3a7fc>\u001b[0m in \u001b[0;36m<module>\u001b[0;34m\u001b[0m\n\u001b[1;32m      3\u001b[0m \u001b[0;31m#save model for later use\u001b[0m\u001b[0;34m\u001b[0m\u001b[0;34m\u001b[0m\u001b[0;34m\u001b[0m\u001b[0m\n\u001b[1;32m      4\u001b[0m \u001b[0;32mwith\u001b[0m \u001b[0mopen\u001b[0m\u001b[0;34m(\u001b[0m\u001b[0;34m'model.pkl'\u001b[0m\u001b[0;34m,\u001b[0m \u001b[0;34m'wb'\u001b[0m\u001b[0;34m)\u001b[0m \u001b[0;32mas\u001b[0m \u001b[0mpkl\u001b[0m\u001b[0;34m:\u001b[0m\u001b[0;34m\u001b[0m\u001b[0;34m\u001b[0m\u001b[0m\n\u001b[0;32m----> 5\u001b[0;31m     \u001b[0mpickle\u001b[0m\u001b[0;34m.\u001b[0m\u001b[0mdump\u001b[0m\u001b[0;34m(\u001b[0m\u001b[0mRS\u001b[0m\u001b[0;34m,\u001b[0m \u001b[0mpkl\u001b[0m\u001b[0;34m)\u001b[0m\u001b[0;34m\u001b[0m\u001b[0;34m\u001b[0m\u001b[0m\n\u001b[0m",
      "\u001b[0;31mNameError\u001b[0m: name 'pickle' is not defined"
     ]
    }
   ],
   "source": [
    "RS.fit(X_train, y_train)\n",
    "\n",
    "import pickle\n",
    "#save model for later use\n",
    "with open('model.pkl', 'wb') as pkl:\n",
    "    pickle.dump(RS, pkl)"
   ]
  },
  {
   "cell_type": "code",
   "execution_count": 18,
   "metadata": {
    "ExecuteTime": {
     "end_time": "2020-05-29T15:26:46.535184Z",
     "start_time": "2020-05-29T15:26:37.775459Z"
    }
   },
   "outputs": [
    {
     "name": "stdout",
     "output_type": "stream",
     "text": [
      "              precision    recall  f1-score   support\n",
      "\n",
      "         0.0       0.99      0.97      0.98   3371174\n",
      "         1.0       1.00      0.41      0.58        22\n",
      "         2.0       0.14      0.71      0.23       153\n",
      "         3.0       0.90      0.97      0.94      2747\n",
      "         4.0       0.96      1.00      0.98     10377\n",
      "         5.0       0.76      0.52      0.62     34973\n",
      "         6.0       0.84      0.96      0.90       432\n",
      "         7.0       0.91      0.54      0.68        57\n",
      "         8.0       0.72      0.88      0.79     48340\n",
      "         9.0       0.17      0.36      0.23     40484\n",
      "        10.0       1.00      1.00      1.00     46897\n",
      "        11.0       0.88      0.99      0.93     71548\n",
      "        12.0       0.97      1.00      0.98    115478\n",
      "        13.0       0.91      1.00      0.95    144048\n",
      "        14.0       0.91      0.97      0.94    171503\n",
      "\n",
      "    accuracy                           0.96   4058233\n",
      "   macro avg       0.80      0.82      0.78   4058233\n",
      "weighted avg       0.97      0.96      0.96   4058233\n",
      "\n"
     ]
    },
    {
     "data": {
      "text/plain": [
       "<matplotlib.axes._subplots.AxesSubplot at 0x7fec18794f90>"
      ]
     },
     "execution_count": 18,
     "metadata": {},
     "output_type": "execute_result"
    },
    {
     "data": {
      "image/png": "[encoded data removed]",
      "text/plain": [
       "<Figure size 1080x1080 with 2 Axes>"
      ]
     },
     "metadata": {
      "needs_background": "light"
     },
     "output_type": "display_data"
    }
   ],
   "source": [
    "from sklearn.metrics import f1_score, confusion_matrix\n",
    "#y_hat = RS.predict(X_test)\n",
    "print(classification_report(y_test, y_hat))\n",
    "fig, ax = plt.subplots(figsize=(15,15))\n",
    "sns.heatmap(confusion_matrix(y_test, y_hat, normalize='true'), annot=True,ax=ax)"
   ]
  },
  {
   "cell_type": "code",
   "execution_count": 32,
   "metadata": {
    "ExecuteTime": {
     "end_time": "2020-05-29T16:02:32.023213Z",
     "start_time": "2020-05-29T16:02:32.005257Z"
    }
   },
   "outputs": [
    {
     "ename": "AttributeError",
     "evalue": "'Pipeline' object has no attribute 'et_params'",
     "output_type": "error",
     "traceback": [
      "\u001b[0;31m---------------------------------------------------------------------------\u001b[0m",
      "\u001b[0;31mAttributeError\u001b[0m                            Traceback (most recent call last)",
      "\u001b[0;32m<ipython-input-32-5312cd31dc1b>\u001b[0m in \u001b[0;36m<module>\u001b[0;34m\u001b[0m\n\u001b[1;32m      3\u001b[0m \u001b[0mscores_df\u001b[0m\u001b[0;34m[\u001b[0m\u001b[0mscores\u001b[0m\u001b[0;34m]\u001b[0m\u001b[0;34m\u001b[0m\u001b[0;34m\u001b[0m\u001b[0m\n\u001b[1;32m      4\u001b[0m \u001b[0mf1_macro_params\u001b[0m \u001b[0;34m=\u001b[0m \u001b[0mscores_df\u001b[0m\u001b[0;34m.\u001b[0m\u001b[0msort_values\u001b[0m\u001b[0;34m(\u001b[0m\u001b[0;34m'mean_test_f1_macro'\u001b[0m\u001b[0;34m)\u001b[0m\u001b[0;34m.\u001b[0m\u001b[0mloc\u001b[0m\u001b[0;34m[\u001b[0m\u001b[0;36m0\u001b[0m\u001b[0;34m,\u001b[0m\u001b[0;34m\"params\"\u001b[0m\u001b[0;34m]\u001b[0m\u001b[0;34m\u001b[0m\u001b[0;34m\u001b[0m\u001b[0m\n\u001b[0;32m----> 5\u001b[0;31m \u001b[0mpipe\u001b[0m\u001b[0;34m.\u001b[0m\u001b[0met_params\u001b[0m\u001b[0;34m(\u001b[0m\u001b[0;34m)\u001b[0m\u001b[0;34m\u001b[0m\u001b[0;34m\u001b[0m\u001b[0m\n\u001b[0m",
      "\u001b[0;31mAttributeError\u001b[0m: 'Pipeline' object has no attribute 'et_params'"
     ]
    }
   ],
   "source": [
    "scores_df = pd.DataFrame(RS.cv_results_)\n",
    "scores = [col for col in scores_df if 'mean_test' in col or \"rank\" in col]\n",
    "scores_df[scores]\n",
    "f1_macro_params = scores_df.sort_values('mean_test_f1_macro').loc[0,\"params\"]"
   ]
  },
  {
   "cell_type": "code",
   "execution_count": 37,
   "metadata": {
    "ExecuteTime": {
     "end_time": "2020-05-29T16:30:02.057329Z",
     "start_time": "2020-05-29T16:19:00.031913Z"
    }
   },
   "outputs": [
    {
     "name": "stderr",
     "output_type": "stream",
     "text": [
      "[Parallel(n_jobs=-1)]: Using backend ThreadingBackend with 8 concurrent workers.\n"
     ]
    },
    {
     "name": "stdout",
     "output_type": "stream",
     "text": [
      "building tree 1 of 100\n",
      "building tree 2 of 100\n",
      "building tree 3 of 100\n",
      "building tree 4 of 100\n",
      "building tree 5 of 100\n",
      "building tree 6 of 100\n",
      "building tree 7 of 100\n",
      "building tree 8 of 100\n",
      "building tree 9 of 100\n",
      "building tree 10 of 100\n",
      "building tree 11 of 100\n",
      "building tree 12 of 100building tree 13 of 100\n",
      "building tree 14 of 100\n",
      "\n",
      "building tree 15 of 100\n",
      "building tree 16 of 100\n",
      "building tree 17 of 100\n",
      "building tree 18 of 100\n",
      "building tree 19 of 100\n",
      "building tree 20 of 100\n",
      "building tree 21 of 100\n",
      "building tree 22 of 100\n",
      "building tree 23 of 100\n",
      "building tree 24 of 100\n",
      "building tree 25 of 100\n",
      "building tree 26 of 100\n",
      "building tree 27 of 100\n",
      "building tree 28 of 100\n",
      "building tree 29 of 100\n",
      "building tree 30 of 100\n",
      "building tree 31 of 100building tree 32 of 100\n",
      "\n",
      "building tree 33 of 100\n"
     ]
    },
    {
     "name": "stderr",
     "output_type": "stream",
     "text": [
      "[Parallel(n_jobs=-1)]: Done  25 tasks      | elapsed:  1.6min\n"
     ]
    },
    {
     "name": "stdout",
     "output_type": "stream",
     "text": [
      "building tree 34 of 100\n",
      "building tree 35 of 100\n",
      "building tree 36 of 100\n",
      "building tree 37 of 100\n",
      "building tree 38 of 100\n",
      "building tree 39 of 100\n",
      "building tree 40 of 100\n",
      "building tree 41 of 100\n",
      "building tree 42 of 100\n",
      "building tree 43 of 100building tree 44 of 100\n",
      "building tree 45 of 100\n",
      "\n",
      "building tree 46 of 100\n",
      "building tree 47 of 100\n",
      "building tree 48 of 100\n",
      "building tree 49 of 100\n",
      "building tree 50 of 100\n",
      "building tree 51 of 100\n",
      "building tree 52 of 100\n",
      "building tree 53 of 100building tree 54 of 100\n",
      "\n",
      "building tree 55 of 100\n",
      "building tree 56 of 100\n",
      "building tree 57 of 100\n",
      "building tree 58 of 100\n",
      "building tree 59 of 100\n",
      "building tree 60 of 100\n",
      "building tree 61 of 100\n",
      "building tree 62 of 100\n",
      "building tree 63 of 100\n",
      "building tree 64 of 100\n",
      "building tree 65 of 100\n",
      "building tree 66 of 100\n",
      "building tree 67 of 100\n",
      "building tree 68 of 100\n",
      "building tree 69 of 100\n",
      "building tree 70 of 100\n",
      "building tree 71 of 100\n",
      "building tree 72 of 100\n",
      "building tree 73 of 100\n",
      "building tree 74 of 100\n",
      "building tree 75 of 100\n",
      "building tree 76 of 100\n",
      "building tree 77 of 100\n",
      "building tree 78 of 100\n",
      "building tree 79 of 100\n",
      "building tree 80 of 100\n",
      "building tree 81 of 100\n",
      "building tree 82 of 100\n",
      "building tree 83 of 100\n",
      "building tree 84 of 100\n",
      "building tree 85 of 100\n",
      "building tree 86 of 100\n",
      "building tree 87 of 100building tree 88 of 100\n",
      "\n",
      "building tree 89 of 100\n",
      "building tree 90 of 100\n",
      "building tree 91 of 100\n",
      "building tree 92 of 100\n",
      "building tree 93 of 100\n",
      "building tree 94 of 100\n",
      "building tree 95 of 100\n",
      "building tree 96 of 100\n",
      "building tree 97 of 100\n",
      "building tree 98 of 100\n",
      "building tree 99 of 100\n",
      "building tree 100 of 100\n"
     ]
    },
    {
     "name": "stderr",
     "output_type": "stream",
     "text": [
      "[Parallel(n_jobs=-1)]: Done 100 out of 100 | elapsed:  5.3min finished\n",
      "[Parallel(n_jobs=8)]: Using backend ThreadingBackend with 8 concurrent workers.\n",
      "[Parallel(n_jobs=8)]: Done  25 tasks      | elapsed:   10.9s\n",
      "[Parallel(n_jobs=8)]: Done 100 out of 100 | elapsed:   34.6s finished\n"
     ]
    },
    {
     "name": "stdout",
     "output_type": "stream",
     "text": [
      "              precision    recall  f1-score   support\n",
      "\n",
      "         0.0       0.99      0.97      0.98   3371174\n",
      "         1.0       1.00      0.41      0.58        22\n",
      "         2.0       0.14      0.71      0.23       153\n",
      "         3.0       0.90      0.97      0.94      2747\n",
      "         4.0       0.96      1.00      0.98     10377\n",
      "         5.0       0.76      0.52      0.62     34973\n",
      "         6.0       0.84      0.96      0.90       432\n",
      "         7.0       0.91      0.54      0.68        57\n",
      "         8.0       0.72      0.88      0.79     48340\n",
      "         9.0       0.17      0.36      0.23     40484\n",
      "        10.0       1.00      1.00      1.00     46897\n",
      "        11.0       0.88      0.99      0.93     71548\n",
      "        12.0       0.97      1.00      0.98    115478\n",
      "        13.0       0.91      1.00      0.95    144048\n",
      "        14.0       0.91      0.97      0.94    171503\n",
      "\n",
      "    accuracy                           0.96   4058233\n",
      "   macro avg       0.80      0.82      0.78   4058233\n",
      "weighted avg       0.97      0.96      0.96   4058233\n",
      "\n"
     ]
    },
    {
     "data": {
      "text/plain": [
       "<matplotlib.axes._subplots.AxesSubplot at 0x7fec13e8b710>"
      ]
     },
     "execution_count": 37,
     "metadata": {},
     "output_type": "execute_result"
    },
    {
     "data": {
      "image/png": "[encoded data removed]",
      "text/plain": [
       "<Figure size 1080x1080 with 2 Axes>"
      ]
     },
     "metadata": {
      "needs_background": "light"
     },
     "output_type": "display_data"
    }
   ],
   "source": [
    "pipe.set_params(**f1_macro_params)\n",
    "pipe.fit(X_train, y_train)\n",
    "\n",
    "y_hat_macro  = pipe.predict(X_test)\n",
    "print(classification_report(y_test, y_hat))\n",
    "fig, ax = plt.subplots(figsize=(15,15))\n",
    "sns.heatmap(confusion_matrix(y_test, y_hat, normalize='true'), annot=True,ax=ax)"
   ]
  },
  {
   "cell_type": "code",
   "execution_count": 46,
   "metadata": {
    "ExecuteTime": {
     "end_time": "2020-05-29T16:44:39.499160Z",
     "start_time": "2020-05-29T16:44:30.311212Z"
    }
   },
   "outputs": [
    {
     "name": "stdout",
     "output_type": "stream",
     "text": [
      "              precision    recall  f1-score   support\n",
      "\n",
      "         0.0       0.99      0.74      0.85   3371174\n",
      "         1.0       0.00      0.55      0.00        22\n",
      "         2.0       0.00      0.81      0.00       153\n",
      "         3.0       0.68      0.98      0.80      2747\n",
      "         4.0       0.95      1.00      0.97     10377\n",
      "         5.0       0.76      0.52      0.62     34973\n",
      "         6.0       0.73      0.99      0.84       432\n",
      "         7.0       0.00      0.60      0.00        57\n",
      "         8.0       0.72      0.88      0.79     48340\n",
      "         9.0       0.03      0.61      0.06     40484\n",
      "        10.0       1.00      1.00      1.00     46897\n",
      "        11.0       0.87      0.99      0.93     71548\n",
      "        12.0       0.97      1.00      0.98    115478\n",
      "        13.0       0.91      0.99      0.95    144048\n",
      "        14.0       0.91      0.97      0.94    171503\n",
      "\n",
      "    accuracy                           0.78   4058233\n",
      "   macro avg       0.64      0.84      0.65   4058233\n",
      "weighted avg       0.97      0.78      0.86   4058233\n",
      "\n"
     ]
    },
    {
     "data": {
      "image/png": "[encoded data removed]",
      "text/plain": [
       "<Figure size 1080x1080 with 2 Axes>"
      ]
     },
     "metadata": {
      "needs_background": "light"
     },
     "output_type": "display_data"
    }
   ],
   "source": [
    "print(classification_report(y_test, y_hat_macro))\n",
    "fig, ax = plt.subplots(figsize=(15,15))\n",
    "sns.heatmap(confusion_matrix(y_test, y_hat_macro, normalize='true'), annot=True,ax=ax, cmap='Wistia');"
   ]
  }
 ],
 "metadata": {
  "kernelspec": {
   "display_name": "Python 3",
   "language": "python",
   "name": "python3"
  },
  "language_info": {
   "codemirror_mode": {
    "name": "ipython",
    "version": 3
   },
   "file_extension": ".py",
   "mimetype": "text/x-python",
   "name": "python",
   "nbconvert_exporter": "python",
   "pygments_lexer": "ipython3",
   "version": "3.7.6"
  },
  "varInspector": {
   "cols": {
    "lenName": 16,
    "lenType": 16,
    "lenVar": 40
   },
   "kernels_config": {
    "python": {
     "delete_cmd_postfix": "",
     "delete_cmd_prefix": "del ",
     "library": "var_list.py",
     "varRefreshCmd": "print(var_dic_list())"
    },
    "r": {
     "delete_cmd_postfix": ") ",
     "delete_cmd_prefix": "rm(",
     "library": "var_list.r",
     "varRefreshCmd": "cat(var_dic_list()) "
    }
   },
   "oldHeight": 374.844,
   "position": {
    "height": "396.85px",
    "left": "757px",
    "right": "20px",
    "top": "32px",
    "width": "675px"
   },
   "types_to_exclude": [
    "module",
    "function",
    "builtin_function_or_method",
    "instance",
    "_Feature"
   ],
   "varInspector_section_display": "block",
   "window_display": true
  }
 },
 "nbformat": 4,
 "nbformat_minor": 4
}
